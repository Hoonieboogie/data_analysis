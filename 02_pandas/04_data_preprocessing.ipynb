{
 "cells": [
  {
   "cell_type": "markdown",
   "id": "b45cb73a",
   "metadata": {},
   "source": [
    "# Data Preprocessing\n",
    "- 결측치 확인 및 처리\n",
    "- 이상값 처리\n",
    "- 중복값 처리"
   ]
  },
  {
   "cell_type": "code",
   "execution_count": 1,
   "id": "0e9fca62",
   "metadata": {},
   "outputs": [],
   "source": [
    "import numpy as np\n",
    "import pandas as pd"
   ]
  },
  {
   "cell_type": "code",
   "execution_count": 2,
   "id": "87c9bc54",
   "metadata": {},
   "outputs": [
    {
     "data": {
      "text/html": [
       "<div>\n",
       "<style scoped>\n",
       "    .dataframe tbody tr th:only-of-type {\n",
       "        vertical-align: middle;\n",
       "    }\n",
       "\n",
       "    .dataframe tbody tr th {\n",
       "        vertical-align: top;\n",
       "    }\n",
       "\n",
       "    .dataframe thead th {\n",
       "        text-align: right;\n",
       "    }\n",
       "</style>\n",
       "<table border=\"1\" class=\"dataframe\">\n",
       "  <thead>\n",
       "    <tr style=\"text-align: right;\">\n",
       "      <th></th>\n",
       "      <th>Name</th>\n",
       "      <th>Phone</th>\n",
       "      <th>Email</th>\n",
       "    </tr>\n",
       "  </thead>\n",
       "  <tbody>\n",
       "    <tr>\n",
       "      <th>0</th>\n",
       "      <td>김민수</td>\n",
       "      <td>010-1234-5678</td>\n",
       "      <td>minsu.kim@gmail.com</td>\n",
       "    </tr>\n",
       "    <tr>\n",
       "      <th>1</th>\n",
       "      <td>이지은</td>\n",
       "      <td>010-2345-6789</td>\n",
       "      <td>jieun.lee@naver.com</td>\n",
       "    </tr>\n",
       "    <tr>\n",
       "      <th>2</th>\n",
       "      <td>박철수</td>\n",
       "      <td>010-3456-7890</td>\n",
       "      <td>chulsoo.park@hotmail.com</td>\n",
       "    </tr>\n",
       "    <tr>\n",
       "      <th>3</th>\n",
       "      <td>홍길동</td>\n",
       "      <td>010-4567-8901</td>\n",
       "      <td>gildong.hong@daum.net</td>\n",
       "    </tr>\n",
       "    <tr>\n",
       "      <th>4</th>\n",
       "      <td>김영희</td>\n",
       "      <td>010-5678-9012</td>\n",
       "      <td>younghee.kim@gmail.com</td>\n",
       "    </tr>\n",
       "  </tbody>\n",
       "</table>\n",
       "</div>"
      ],
      "text/plain": [
       "  Name          Phone                     Email\n",
       "0  김민수  010-1234-5678       minsu.kim@gmail.com\n",
       "1  이지은  010-2345-6789       jieun.lee@naver.com\n",
       "2  박철수  010-3456-7890  chulsoo.park@hotmail.com\n",
       "3  홍길동  010-4567-8901     gildong.hong@daum.net\n",
       "4  김영희  010-5678-9012    younghee.kim@gmail.com"
      ]
     },
     "execution_count": 2,
     "metadata": {},
     "output_type": "execute_result"
    }
   ],
   "source": [
    "contacts_df = pd.read_csv('./data/contacts.csv')\n",
    "contacts_df.head(5)"
   ]
  },
  {
   "cell_type": "code",
   "execution_count": 3,
   "id": "dd7fd10e",
   "metadata": {},
   "outputs": [
    {
     "name": "stdout",
     "output_type": "stream",
     "text": [
      "<class 'pandas.core.frame.DataFrame'>\n",
      "RangeIndex: 77 entries, 0 to 76\n",
      "Data columns (total 3 columns):\n",
      " #   Column  Non-Null Count  Dtype \n",
      "---  ------  --------------  ----- \n",
      " 0   Name    77 non-null     object\n",
      " 1   Phone   71 non-null     object\n",
      " 2   Email   76 non-null     object\n",
      "dtypes: object(3)\n",
      "memory usage: 1.9+ KB\n"
     ]
    }
   ],
   "source": [
    "contacts_df.info()"
   ]
  },
  {
   "cell_type": "code",
   "execution_count": 4,
   "id": "7773c83b",
   "metadata": {},
   "outputs": [
    {
     "data": {
      "text/html": [
       "<div>\n",
       "<style scoped>\n",
       "    .dataframe tbody tr th:only-of-type {\n",
       "        vertical-align: middle;\n",
       "    }\n",
       "\n",
       "    .dataframe tbody tr th {\n",
       "        vertical-align: top;\n",
       "    }\n",
       "\n",
       "    .dataframe thead th {\n",
       "        text-align: right;\n",
       "    }\n",
       "</style>\n",
       "<table border=\"1\" class=\"dataframe\">\n",
       "  <thead>\n",
       "    <tr style=\"text-align: right;\">\n",
       "      <th></th>\n",
       "      <th>Name</th>\n",
       "      <th>Phone</th>\n",
       "      <th>Email</th>\n",
       "    </tr>\n",
       "  </thead>\n",
       "  <tbody>\n",
       "    <tr>\n",
       "      <th>count</th>\n",
       "      <td>77</td>\n",
       "      <td>71</td>\n",
       "      <td>76</td>\n",
       "    </tr>\n",
       "    <tr>\n",
       "      <th>unique</th>\n",
       "      <td>75</td>\n",
       "      <td>63</td>\n",
       "      <td>75</td>\n",
       "    </tr>\n",
       "    <tr>\n",
       "      <th>top</th>\n",
       "      <td>박철수</td>\n",
       "      <td>010-2345-6789</td>\n",
       "      <td>dahyun.jung@naver.com</td>\n",
       "    </tr>\n",
       "    <tr>\n",
       "      <th>freq</th>\n",
       "      <td>2</td>\n",
       "      <td>2</td>\n",
       "      <td>2</td>\n",
       "    </tr>\n",
       "  </tbody>\n",
       "</table>\n",
       "</div>"
      ],
      "text/plain": [
       "       Name          Phone                  Email\n",
       "count    77             71                     76\n",
       "unique   75             63                     75\n",
       "top     박철수  010-2345-6789  dahyun.jung@naver.com\n",
       "freq      2              2                      2"
      ]
     },
     "execution_count": 4,
     "metadata": {},
     "output_type": "execute_result"
    }
   ],
   "source": [
    "contacts_df.describe() # 다르게 나오는 이유: 위에 보면 데이터 타입들이 object라서\n",
    "\n",
    "# top: 제일 많이 가지고 있는 데이터\n",
    "# freq: 그것의 빈도"
   ]
  },
  {
   "cell_type": "markdown",
   "id": "b2d1534b",
   "metadata": {},
   "source": [
    "### 중복 데이터 확인"
   ]
  },
  {
   "cell_type": "code",
   "execution_count": 5,
   "id": "39c7b57f",
   "metadata": {},
   "outputs": [
    {
     "data": {
      "text/html": [
       "<div>\n",
       "<style scoped>\n",
       "    .dataframe tbody tr th:only-of-type {\n",
       "        vertical-align: middle;\n",
       "    }\n",
       "\n",
       "    .dataframe tbody tr th {\n",
       "        vertical-align: top;\n",
       "    }\n",
       "\n",
       "    .dataframe thead th {\n",
       "        text-align: right;\n",
       "    }\n",
       "</style>\n",
       "<table border=\"1\" class=\"dataframe\">\n",
       "  <thead>\n",
       "    <tr style=\"text-align: right;\">\n",
       "      <th></th>\n",
       "      <th>Name</th>\n",
       "      <th>Phone</th>\n",
       "      <th>Email</th>\n",
       "    </tr>\n",
       "  </thead>\n",
       "  <tbody>\n",
       "    <tr>\n",
       "      <th>2</th>\n",
       "      <td>박철수</td>\n",
       "      <td>010-3456-7890</td>\n",
       "      <td>chulsoo.park@hotmail.com</td>\n",
       "    </tr>\n",
       "    <tr>\n",
       "      <th>31</th>\n",
       "      <td>박철수</td>\n",
       "      <td>010-1234-5681</td>\n",
       "      <td>chulsoo.park@gmail.com</td>\n",
       "    </tr>\n",
       "  </tbody>\n",
       "</table>\n",
       "</div>"
      ],
      "text/plain": [
       "   Name          Phone                     Email\n",
       "2   박철수  010-3456-7890  chulsoo.park@hotmail.com\n",
       "31  박철수  010-1234-5681    chulsoo.park@gmail.com"
      ]
     },
     "execution_count": 5,
     "metadata": {},
     "output_type": "execute_result"
    }
   ],
   "source": [
    "contacts_df[contacts_df['Name']=='박철수']"
   ]
  },
  {
   "cell_type": "code",
   "execution_count": 6,
   "id": "878d817e",
   "metadata": {},
   "outputs": [
    {
     "data": {
      "text/html": [
       "<div>\n",
       "<style scoped>\n",
       "    .dataframe tbody tr th:only-of-type {\n",
       "        vertical-align: middle;\n",
       "    }\n",
       "\n",
       "    .dataframe tbody tr th {\n",
       "        vertical-align: top;\n",
       "    }\n",
       "\n",
       "    .dataframe thead th {\n",
       "        text-align: right;\n",
       "    }\n",
       "</style>\n",
       "<table border=\"1\" class=\"dataframe\">\n",
       "  <thead>\n",
       "    <tr style=\"text-align: right;\">\n",
       "      <th></th>\n",
       "      <th>Name</th>\n",
       "      <th>Phone</th>\n",
       "      <th>Email</th>\n",
       "    </tr>\n",
       "  </thead>\n",
       "  <tbody>\n",
       "    <tr>\n",
       "      <th>1</th>\n",
       "      <td>이지은</td>\n",
       "      <td>010-2345-6789</td>\n",
       "      <td>jieun.lee@naver.com</td>\n",
       "    </tr>\n",
       "    <tr>\n",
       "      <th>71</th>\n",
       "      <td>엄정희</td>\n",
       "      <td>010-2345-6789</td>\n",
       "      <td>jeonghee.eom@hotmail.com</td>\n",
       "    </tr>\n",
       "  </tbody>\n",
       "</table>\n",
       "</div>"
      ],
      "text/plain": [
       "   Name          Phone                     Email\n",
       "1   이지은  010-2345-6789       jieun.lee@naver.com\n",
       "71  엄정희  010-2345-6789  jeonghee.eom@hotmail.com"
      ]
     },
     "execution_count": 6,
     "metadata": {},
     "output_type": "execute_result"
    }
   ],
   "source": [
    "contacts_df[contacts_df['Phone']=='010-2345-6789']"
   ]
  },
  {
   "cell_type": "code",
   "execution_count": 7,
   "id": "85318537",
   "metadata": {},
   "outputs": [
    {
     "data": {
      "text/html": [
       "<div>\n",
       "<style scoped>\n",
       "    .dataframe tbody tr th:only-of-type {\n",
       "        vertical-align: middle;\n",
       "    }\n",
       "\n",
       "    .dataframe tbody tr th {\n",
       "        vertical-align: top;\n",
       "    }\n",
       "\n",
       "    .dataframe thead th {\n",
       "        text-align: right;\n",
       "    }\n",
       "</style>\n",
       "<table border=\"1\" class=\"dataframe\">\n",
       "  <thead>\n",
       "    <tr style=\"text-align: right;\">\n",
       "      <th></th>\n",
       "      <th>Name</th>\n",
       "      <th>Phone</th>\n",
       "      <th>Email</th>\n",
       "    </tr>\n",
       "  </thead>\n",
       "  <tbody>\n",
       "    <tr>\n",
       "      <th>32</th>\n",
       "      <td>정다현</td>\n",
       "      <td>010-2345-6782</td>\n",
       "      <td>dahyun.jung@naver.com</td>\n",
       "    </tr>\n",
       "    <tr>\n",
       "      <th>67</th>\n",
       "      <td>정다현</td>\n",
       "      <td>010-2345-6782</td>\n",
       "      <td>dahyun.jung@naver.com</td>\n",
       "    </tr>\n",
       "  </tbody>\n",
       "</table>\n",
       "</div>"
      ],
      "text/plain": [
       "   Name          Phone                  Email\n",
       "32  정다현  010-2345-6782  dahyun.jung@naver.com\n",
       "67  정다현  010-2345-6782  dahyun.jung@naver.com"
      ]
     },
     "execution_count": 7,
     "metadata": {},
     "output_type": "execute_result"
    }
   ],
   "source": [
    "contacts_df[contacts_df['Email']=='dahyun.jung@naver.com']"
   ]
  },
  {
   "cell_type": "markdown",
   "id": "27613014",
   "metadata": {},
   "source": [
    "---"
   ]
  },
  {
   "cell_type": "markdown",
   "id": "23e08a14",
   "metadata": {},
   "source": [
    "## 중복 데이터 처리"
   ]
  },
  {
   "cell_type": "code",
   "execution_count": 8,
   "id": "b99a426d",
   "metadata": {},
   "outputs": [
    {
     "data": {
      "text/plain": [
       "np.int64(1)"
      ]
     },
     "execution_count": 8,
     "metadata": {},
     "output_type": "execute_result"
    }
   ],
   "source": [
    "# 중복 데이터 더 깔쌈하게 확인\n",
    "contacts_df.duplicated().sum()\n",
    "\n",
    "# 결과가 1 = 2개의 행의 데이터가 중복\n",
    "# 결과가 2 = A라는 데이터가 3번 중복된 경우 \n",
    "#           OR A라는 데이터가 2번 + B라는 데이터가 2번 중복된 경우"
   ]
  },
  {
   "cell_type": "code",
   "execution_count": 9,
   "id": "fe26bd90",
   "metadata": {},
   "outputs": [
    {
     "data": {
      "text/html": [
       "<div>\n",
       "<style scoped>\n",
       "    .dataframe tbody tr th:only-of-type {\n",
       "        vertical-align: middle;\n",
       "    }\n",
       "\n",
       "    .dataframe tbody tr th {\n",
       "        vertical-align: top;\n",
       "    }\n",
       "\n",
       "    .dataframe thead th {\n",
       "        text-align: right;\n",
       "    }\n",
       "</style>\n",
       "<table border=\"1\" class=\"dataframe\">\n",
       "  <thead>\n",
       "    <tr style=\"text-align: right;\">\n",
       "      <th></th>\n",
       "      <th>Name</th>\n",
       "      <th>Phone</th>\n",
       "      <th>Email</th>\n",
       "    </tr>\n",
       "  </thead>\n",
       "  <tbody>\n",
       "    <tr>\n",
       "      <th>67</th>\n",
       "      <td>정다현</td>\n",
       "      <td>010-2345-6782</td>\n",
       "      <td>dahyun.jung@naver.com</td>\n",
       "    </tr>\n",
       "  </tbody>\n",
       "</table>\n",
       "</div>"
      ],
      "text/plain": [
       "   Name          Phone                  Email\n",
       "67  정다현  010-2345-6782  dahyun.jung@naver.com"
      ]
     },
     "execution_count": 9,
     "metadata": {},
     "output_type": "execute_result"
    }
   ],
   "source": [
    "contacts_df[contacts_df.duplicated()]"
   ]
  },
  {
   "cell_type": "code",
   "execution_count": 10,
   "id": "8bbc1a94",
   "metadata": {},
   "outputs": [
    {
     "data": {
      "text/html": [
       "<div>\n",
       "<style scoped>\n",
       "    .dataframe tbody tr th:only-of-type {\n",
       "        vertical-align: middle;\n",
       "    }\n",
       "\n",
       "    .dataframe tbody tr th {\n",
       "        vertical-align: top;\n",
       "    }\n",
       "\n",
       "    .dataframe thead th {\n",
       "        text-align: right;\n",
       "    }\n",
       "</style>\n",
       "<table border=\"1\" class=\"dataframe\">\n",
       "  <thead>\n",
       "    <tr style=\"text-align: right;\">\n",
       "      <th></th>\n",
       "      <th>Name</th>\n",
       "      <th>Phone</th>\n",
       "      <th>Email</th>\n",
       "    </tr>\n",
       "  </thead>\n",
       "  <tbody>\n",
       "    <tr>\n",
       "      <th>31</th>\n",
       "      <td>박철수</td>\n",
       "      <td>010-1234-5681</td>\n",
       "      <td>chulsoo.park@gmail.com</td>\n",
       "    </tr>\n",
       "    <tr>\n",
       "      <th>67</th>\n",
       "      <td>정다현</td>\n",
       "      <td>010-2345-6782</td>\n",
       "      <td>dahyun.jung@naver.com</td>\n",
       "    </tr>\n",
       "  </tbody>\n",
       "</table>\n",
       "</div>"
      ],
      "text/plain": [
       "   Name          Phone                   Email\n",
       "31  박철수  010-1234-5681  chulsoo.park@gmail.com\n",
       "67  정다현  010-2345-6782   dahyun.jung@naver.com"
      ]
     },
     "execution_count": 10,
     "metadata": {},
     "output_type": "execute_result"
    }
   ],
   "source": [
    "# 특정 컬럼을 지정해 중복 데이터를 확인 가능\n",
    "contacts_df[contacts_df.duplicated(['Name'])] # 박철수 & 정다현 이름 중복 O"
   ]
  },
  {
   "cell_type": "code",
   "execution_count": 11,
   "id": "d58854ec",
   "metadata": {},
   "outputs": [
    {
     "data": {
      "text/html": [
       "<div>\n",
       "<style scoped>\n",
       "    .dataframe tbody tr th:only-of-type {\n",
       "        vertical-align: middle;\n",
       "    }\n",
       "\n",
       "    .dataframe tbody tr th {\n",
       "        vertical-align: top;\n",
       "    }\n",
       "\n",
       "    .dataframe thead th {\n",
       "        text-align: right;\n",
       "    }\n",
       "</style>\n",
       "<table border=\"1\" class=\"dataframe\">\n",
       "  <thead>\n",
       "    <tr style=\"text-align: right;\">\n",
       "      <th></th>\n",
       "      <th>Name</th>\n",
       "      <th>Phone</th>\n",
       "      <th>Email</th>\n",
       "    </tr>\n",
       "  </thead>\n",
       "  <tbody>\n",
       "    <tr>\n",
       "      <th>0</th>\n",
       "      <td>김민수</td>\n",
       "      <td>010-1234-5678</td>\n",
       "      <td>minsu.kim@gmail.com</td>\n",
       "    </tr>\n",
       "    <tr>\n",
       "      <th>1</th>\n",
       "      <td>이지은</td>\n",
       "      <td>010-2345-6789</td>\n",
       "      <td>jieun.lee@naver.com</td>\n",
       "    </tr>\n",
       "    <tr>\n",
       "      <th>2</th>\n",
       "      <td>박철수</td>\n",
       "      <td>010-3456-7890</td>\n",
       "      <td>chulsoo.park@hotmail.com</td>\n",
       "    </tr>\n",
       "    <tr>\n",
       "      <th>3</th>\n",
       "      <td>홍길동</td>\n",
       "      <td>010-4567-8901</td>\n",
       "      <td>gildong.hong@daum.net</td>\n",
       "    </tr>\n",
       "    <tr>\n",
       "      <th>4</th>\n",
       "      <td>김영희</td>\n",
       "      <td>010-5678-9012</td>\n",
       "      <td>younghee.kim@gmail.com</td>\n",
       "    </tr>\n",
       "    <tr>\n",
       "      <th>...</th>\n",
       "      <td>...</td>\n",
       "      <td>...</td>\n",
       "      <td>...</td>\n",
       "    </tr>\n",
       "    <tr>\n",
       "      <th>71</th>\n",
       "      <td>범수정</td>\n",
       "      <td>010-3456-7892</td>\n",
       "      <td>soojeong.beom@gmail.com</td>\n",
       "    </tr>\n",
       "    <tr>\n",
       "      <th>72</th>\n",
       "      <td>이호진</td>\n",
       "      <td>010-4567-8904</td>\n",
       "      <td>hojin.lee@daum.net</td>\n",
       "    </tr>\n",
       "    <tr>\n",
       "      <th>73</th>\n",
       "      <td>정지윤</td>\n",
       "      <td>010-5678-9015</td>\n",
       "      <td>jungzee@naver.com</td>\n",
       "    </tr>\n",
       "    <tr>\n",
       "      <th>74</th>\n",
       "      <td>김지현</td>\n",
       "      <td>010-6789-0126</td>\n",
       "      <td>jh.kim@gmail.com</td>\n",
       "    </tr>\n",
       "    <tr>\n",
       "      <th>75</th>\n",
       "      <td>이지훈</td>\n",
       "      <td>010-7890-1237</td>\n",
       "      <td>leejh@gmail.com</td>\n",
       "    </tr>\n",
       "  </tbody>\n",
       "</table>\n",
       "<p>76 rows × 3 columns</p>\n",
       "</div>"
      ],
      "text/plain": [
       "   Name          Phone                     Email\n",
       "0   김민수  010-1234-5678       minsu.kim@gmail.com\n",
       "1   이지은  010-2345-6789       jieun.lee@naver.com\n",
       "2   박철수  010-3456-7890  chulsoo.park@hotmail.com\n",
       "3   홍길동  010-4567-8901     gildong.hong@daum.net\n",
       "4   김영희  010-5678-9012    younghee.kim@gmail.com\n",
       "..  ...            ...                       ...\n",
       "71  범수정  010-3456-7892   soojeong.beom@gmail.com\n",
       "72  이호진  010-4567-8904        hojin.lee@daum.net\n",
       "73  정지윤  010-5678-9015         jungzee@naver.com\n",
       "74  김지현  010-6789-0126          jh.kim@gmail.com\n",
       "75  이지훈  010-7890-1237           leejh@gmail.com\n",
       "\n",
       "[76 rows x 3 columns]"
      ]
     },
     "execution_count": 11,
     "metadata": {},
     "output_type": "execute_result"
    }
   ],
   "source": [
    "# 중복 데이터 제거하기\n",
    "# reset_index(drop=True) -> 제거된 행 제외하고 인덱스 새로 설정\n",
    "contacts_df = contacts_df.drop_duplicates().reset_index(drop=True)\n",
    "contacts_df"
   ]
  },
  {
   "cell_type": "markdown",
   "id": "6690db59",
   "metadata": {},
   "source": [
    "---"
   ]
  },
  {
   "cell_type": "markdown",
   "id": "a15dc89e",
   "metadata": {},
   "source": [
    "### 결측치 처리"
   ]
  },
  {
   "cell_type": "code",
   "execution_count": 12,
   "id": "e8bc22d5",
   "metadata": {},
   "outputs": [
    {
     "data": {
      "text/plain": [
       "Name     0\n",
       "Phone    6\n",
       "Email    1\n",
       "dtype: int64"
      ]
     },
     "execution_count": 12,
     "metadata": {},
     "output_type": "execute_result"
    }
   ],
   "source": [
    "contacts_df.isna().sum()"
   ]
  },
  {
   "cell_type": "code",
   "execution_count": 13,
   "id": "42c2ff42",
   "metadata": {},
   "outputs": [
    {
     "data": {
      "text/plain": [
       "Name     0\n",
       "Phone    6\n",
       "Email    1\n",
       "dtype: int64"
      ]
     },
     "execution_count": 13,
     "metadata": {},
     "output_type": "execute_result"
    }
   ],
   "source": [
    "contacts_df.isnull().sum() # .isnull() == .isna()"
   ]
  },
  {
   "cell_type": "code",
   "execution_count": null,
   "id": "a05700d5",
   "metadata": {},
   "outputs": [
    {
     "name": "stdout",
     "output_type": "stream",
     "text": [
      "Phone\n",
      "010-2345-6789    2\n",
      "010-0123-4569    2\n",
      "010-3456-7892    2\n",
      "010-6789-0126    2\n",
      "010-7890-1237    2\n",
      "                ..\n",
      "010-6789-0128    1\n",
      "010-7890-1240    1\n",
      "010-8901-2349    1\n",
      "010-9012-3461    1\n",
      "010-1234-5672    1\n",
      "Name: count, Length: 63, dtype: int64\n",
      "<class 'pandas.core.frame.DataFrame'>\n",
      "RangeIndex: 76 entries, 0 to 75\n",
      "Data columns (total 3 columns):\n",
      " #   Column  Non-Null Count  Dtype \n",
      "---  ------  --------------  ----- \n",
      " 0   Name    76 non-null     object\n",
      " 1   Phone   76 non-null     object\n",
      " 2   Email   75 non-null     object\n",
      "dtypes: object(3)\n",
      "memory usage: 1.9+ KB\n"
     ]
    }
   ],
   "source": [
    "# 대표값으로 결측치 대체\n",
    "# - 평균, 기본, 최반, ...\n",
    "\n",
    "#contacts_df['Phone'] = contacts_df['Phone'].fillna('010-0000-0000') # 기본값\n",
    "\n",
    "print(contacts_df['Phone'].value_counts()) # 각 값 count 보여줌\n",
    "contacts_df['Phone'] = contacts_df['Phone'].fillna('010-2345-6789') # 최빈값\n",
    "\n",
    "contacts_df.info()"
   ]
  },
  {
   "cell_type": "code",
   "execution_count": 19,
   "id": "069018df",
   "metadata": {},
   "outputs": [
    {
     "name": "stdout",
     "output_type": "stream",
     "text": [
      "<class 'pandas.core.frame.DataFrame'>\n",
      "Index: 75 entries, 0 to 75\n",
      "Data columns (total 3 columns):\n",
      " #   Column  Non-Null Count  Dtype \n",
      "---  ------  --------------  ----- \n",
      " 0   Name    75 non-null     object\n",
      " 1   Phone   75 non-null     object\n",
      " 2   Email   75 non-null     object\n",
      "dtypes: object(3)\n",
      "memory usage: 2.3+ KB\n"
     ]
    }
   ],
   "source": [
    "# df.dropna(): 결측치가 포함된 행 제거\n",
    "# - how='all': 모든 셀이 결측치인 경우 행 제거\n",
    "# - how='any': 결측치 셀을 하나라도 가지고 있으면 행 제거 (기본값)\n",
    "\n",
    "contacts_df = contacts_df.dropna()\n",
    "contacts_df.info()"
   ]
  },
  {
   "cell_type": "code",
   "execution_count": null,
   "id": "3656b420",
   "metadata": {},
   "outputs": [],
   "source": []
  },
  {
   "cell_type": "code",
   "execution_count": null,
   "id": "9ad6a17a",
   "metadata": {},
   "outputs": [],
   "source": []
  }
 ],
 "metadata": {
  "kernelspec": {
   "display_name": "pystudy_env",
   "language": "python",
   "name": "python3"
  },
  "language_info": {
   "codemirror_mode": {
    "name": "ipython",
    "version": 3
   },
   "file_extension": ".py",
   "mimetype": "text/x-python",
   "name": "python",
   "nbconvert_exporter": "python",
   "pygments_lexer": "ipython3",
   "version": "3.12.11"
  }
 },
 "nbformat": 4,
 "nbformat_minor": 5
}
