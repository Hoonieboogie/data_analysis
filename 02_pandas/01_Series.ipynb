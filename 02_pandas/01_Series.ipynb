{
 "cells": [
  {
   "cell_type": "markdown",
   "id": "70d9292e",
   "metadata": {},
   "source": [
    "# Series\n",
    "- index(label)을 통해 처리 가능한 1차원 배열"
   ]
  },
  {
   "cell_type": "code",
   "execution_count": 3,
   "id": "89071c93",
   "metadata": {},
   "outputs": [],
   "source": [
    "#%pip install pandas\n",
    "import pandas as pd\n",
    "import numpy as np"
   ]
  },
  {
   "cell_type": "markdown",
   "id": "727dcac4",
   "metadata": {},
   "source": [
    "---"
   ]
  },
  {
   "cell_type": "markdown",
   "id": "8d59f257",
   "metadata": {},
   "source": [
    "## Series 생성"
   ]
  },
  {
   "cell_type": "code",
   "execution_count": null,
   "id": "a8a602f6",
   "metadata": {},
   "outputs": [
    {
     "name": "stdout",
     "output_type": "stream",
     "text": [
      "squirrel\n",
      "<class 'pandas.core.series.Series'>\n",
      "0    squirrel\n",
      "1      rabbit\n",
      "2       tiger\n",
      "3      monkey\n",
      "4    treefrog\n",
      "Name: 오지라퍼스, dtype: object\n"
     ]
    }
   ],
   "source": [
    "# python list 활용 -> series 생성\n",
    "teachers = ['squirrel', 'rabbit', 'tiger', 'monkey', 'treefrog']\n",
    "teachers_series = pd.Series(teachers)\n",
    "\n",
    "print(teachers_series[0])\n",
    "print(type(teachers_series))\n",
    "\n",
    "# Series name endowment\n",
    "teachers_series.name = \"오지라퍼스\"\n",
    "print(teachers_series)"
   ]
  },
  {
   "cell_type": "code",
   "execution_count": null,
   "id": "f932a344",
   "metadata": {},
   "outputs": [
    {
     "name": "stdout",
     "output_type": "stream",
     "text": [
      "a    0.380372\n",
      "b   -1.120647\n",
      "c    2.295235\n",
      "d    0.100118\n",
      "e    0.057939\n",
      "dtype: float64\n",
      "2.2952354358509277\n",
      "2.2952354358509277\n",
      "2.2952354358509277 2.2952354358509277\n"
     ]
    },
    {
     "name": "stderr",
     "output_type": "stream",
     "text": [
      "C:\\Users\\Playdata\\AppData\\Local\\Temp\\ipykernel_10024\\1637239555.py:5: FutureWarning: Series.__getitem__ treating keys as positions is deprecated. In a future version, integer keys will always be treated as labels (consistent with DataFrame behavior). To access a value by position, use `ser.iloc[pos]`\n",
      "  print(nums_ser[2]) # 계속 이렇게 인덱싱 가능 (하지만 ... 굳이?)\n"
     ]
    }
   ],
   "source": [
    "# numpy 화용 -> series 생성\n",
    "nums_ser = pd.Series(np.random.randn(5), index = ['a','b','c','d','e']) # 인덱스 임의 지정\n",
    "print(nums_ser)\n",
    "print(nums_ser['c'])\n",
    "print(nums_ser[2]) # 계속 이렇게 인덱싱 가능 (하지만 ... 굳이?)\n",
    "\n",
    "print(nums_ser.loc['c'], nums_ser.iloc[2])\n",
    "# iloc (integer location): 인덱스 번호를 통한 참조\n",
    "# loc (location): 인덱스 label을 통한 참조"
   ]
  },
  {
   "cell_type": "code",
   "execution_count": 16,
   "id": "35f2c8ca",
   "metadata": {},
   "outputs": [
    {
     "name": "stdout",
     "output_type": "stream",
     "text": [
      "a    10\n",
      "b    20\n",
      "c    30\n",
      "Name: 테스트 시리즈, dtype: int64\n",
      "\n",
      "A    10\n",
      "B    20\n",
      "C    30\n",
      "Name: 테스트 시리즈, dtype: int64\n"
     ]
    }
   ],
   "source": [
    "# dict 활용 -> series 생성\n",
    "info = {\n",
    "    'a': 10,\n",
    "    'b': 20,\n",
    "    'c': 30\n",
    "}\n",
    "\n",
    "info_ser = pd.Series(info)\n",
    "info_ser.name = \"테스트 시리즈\"\n",
    "print(info_ser)\n",
    "\n",
    "print()\n",
    "info_ser.index = ['A','B','C']\n",
    "print(info_ser)"
   ]
  },
  {
   "cell_type": "code",
   "execution_count": null,
   "id": "808b9b7d",
   "metadata": {},
   "outputs": [
    {
     "name": "stdout",
     "output_type": "stream",
     "text": [
      "ㄱ    7.16\n",
      "ㄴ    7.16\n",
      "ㄷ    7.16\n",
      "ㄹ    7.16\n",
      "ㅁ    7.16\n",
      "dtype: float64\n"
     ]
    }
   ],
   "source": [
    "# Scalar value 활용 -> Series 생성\n",
    "num_ser = pd.Series(7.16)\n",
    "num_ser = pd.Series(7.16, index=['ㄱ','ㄴ','ㄷ','ㄹ','ㅁ']) # 모든 인덱스에 7.16이 부여 \n",
    "\n",
    "print(num_ser)"
   ]
  },
  {
   "cell_type": "markdown",
   "id": "6c386a4e",
   "metadata": {},
   "source": [
    "---"
   ]
  },
  {
   "cell_type": "markdown",
   "id": "7e279d10",
   "metadata": {},
   "source": [
    "## Series 속성"
   ]
  },
  {
   "cell_type": "code",
   "execution_count": 30,
   "id": "6a2ae508",
   "metadata": {},
   "outputs": [],
   "source": [
    "movie_ser = pd.Series(['F1 더 무비','쥬라기 월드','슈퍼맨','노이즈','괴기열차']) "
   ]
  },
  {
   "cell_type": "code",
   "execution_count": 31,
   "id": "3a6ff9ad",
   "metadata": {},
   "outputs": [
    {
     "name": "stdout",
     "output_type": "stream",
     "text": [
      "['F1 더 무비' '쥬라기 월드' '슈퍼맨' '노이즈' '괴기열차']\n",
      "<class 'numpy.ndarray'>\n"
     ]
    }
   ],
   "source": [
    "# value 가져오기\n",
    "print(movie_ser.values)\n",
    "print(type(movie_ser.values))"
   ]
  },
  {
   "cell_type": "code",
   "execution_count": 32,
   "id": "57b5d889",
   "metadata": {},
   "outputs": [
    {
     "name": "stdout",
     "output_type": "stream",
     "text": [
      "<NumpyExtensionArray>\n",
      "['F1 더 무비', '쥬라기 월드', '슈퍼맨', '노이즈', '괴기열차']\n",
      "Length: 5, dtype: object\n",
      "<class 'pandas.core.arrays.numpy_.NumpyExtensionArray'>\n"
     ]
    }
   ],
   "source": [
    "print(movie_ser.array)\n",
    "print(type(movie_ser.array))"
   ]
  },
  {
   "cell_type": "code",
   "execution_count": 33,
   "id": "fa6776b6",
   "metadata": {},
   "outputs": [
    {
     "name": "stdout",
     "output_type": "stream",
     "text": [
      "RangeIndex(start=0, stop=5, step=1)\n",
      "Index(['1st', '2nd', '3rd', '4th', '5th'], dtype='object')\n"
     ]
    }
   ],
   "source": [
    "# 인덱스 별도 지정 안하면 기본적으로 숫자 인덱스\n",
    "print(movie_ser.index)\n",
    "\n",
    "# 인덱스를 지정한 경우에는 라벨 인덱스\n",
    "movie_ser.index = ['1st','2nd','3rd','4th','5th']\n",
    "print(movie_ser.index)"
   ]
  },
  {
   "cell_type": "code",
   "execution_count": 35,
   "id": "3b25f3b1",
   "metadata": {},
   "outputs": [
    {
     "data": {
      "text/plain": [
       "True"
      ]
     },
     "execution_count": 35,
     "metadata": {},
     "output_type": "execute_result"
    }
   ],
   "source": [
    "# series 값이 고유값인지 여부 (True: 중복 없음 / False: 중복 있음)\n",
    "movie_ser.is_unique"
   ]
  },
  {
   "cell_type": "code",
   "execution_count": 36,
   "id": "2d325d6c",
   "metadata": {},
   "outputs": [
    {
     "name": "stdout",
     "output_type": "stream",
     "text": [
      "object\n",
      "(5,)\n",
      "1\n",
      "5\n"
     ]
    }
   ],
   "source": [
    "# 추가 속성\n",
    "print(movie_ser.dtype) #요소의 자료형\n",
    "print(movie_ser.shape) # 시리즈의 형태\n",
    "print(movie_ser.ndim) # 시리즈 차원의 깊이\n",
    "print(movie_ser.size) # 시리즈 요소의 개수"
   ]
  },
  {
   "cell_type": "markdown",
   "id": "b3052542",
   "metadata": {},
   "source": [
    "## Series 메소드"
   ]
  },
  {
   "cell_type": "code",
   "execution_count": 41,
   "id": "92ce17c5",
   "metadata": {},
   "outputs": [
    {
     "name": "stdout",
     "output_type": "stream",
     "text": [
      "35.8\n",
      "18817.6380824576\n"
     ]
    }
   ],
   "source": [
    "nums_ser = pd.Series([2025,7,16,11,2])\n",
    "print(num_ser.sum())\n",
    "print(num_ser.product())"
   ]
  },
  {
   "cell_type": "code",
   "execution_count": null,
   "id": "1fe76092",
   "metadata": {},
   "outputs": [
    {
     "data": {
      "text/plain": [
       "0    2025\n",
       "1       7\n",
       "2      16\n",
       "3      11\n",
       "4       2\n",
       "dtype: int64"
      ]
     },
     "execution_count": 42,
     "metadata": {},
     "output_type": "execute_result"
    }
   ],
   "source": [
    "# 앞에 n개 조회: 기본 5\n",
    "nums_ser.head()"
   ]
  },
  {
   "cell_type": "code",
   "execution_count": 44,
   "id": "d9bf9275",
   "metadata": {},
   "outputs": [
    {
     "data": {
      "text/plain": [
       "0    2025\n",
       "1       7\n",
       "2      16\n",
       "3      11\n",
       "4       2\n",
       "dtype: int64"
      ]
     },
     "execution_count": 44,
     "metadata": {},
     "output_type": "execute_result"
    }
   ],
   "source": [
    "# 뒤에 n개 조회: 기본 5\n",
    "nums_ser.tail()"
   ]
  },
  {
   "cell_type": "code",
   "execution_count": 46,
   "id": "a4222c68",
   "metadata": {},
   "outputs": [
    {
     "name": "stdout",
     "output_type": "stream",
     "text": [
      "<class 'pandas.core.series.Series'>\n",
      "RangeIndex: 5 entries, 0 to 4\n",
      "Series name: None\n",
      "Non-Null Count  Dtype\n",
      "--------------  -----\n",
      "5 non-null      int64\n",
      "dtypes: int64(1)\n",
      "memory usage: 172.0 bytes\n"
     ]
    }
   ],
   "source": [
    "nums_ser.info() # Series의 메타데이터 (not-null 여부, 자료형 등 확인)"
   ]
  },
  {
   "cell_type": "code",
   "execution_count": 49,
   "id": "5bb7e56d",
   "metadata": {},
   "outputs": [
    {
     "data": {
      "text/plain": [
       "count       5.000000\n",
       "mean      412.200000\n",
       "std       901.597305\n",
       "min         2.000000\n",
       "25%         7.000000\n",
       "50%        11.000000\n",
       "75%        16.000000\n",
       "max      2025.000000\n",
       "dtype: float64"
      ]
     },
     "execution_count": 49,
     "metadata": {},
     "output_type": "execute_result"
    }
   ],
   "source": [
    "nums_ser.describe() # statistics 확인"
   ]
  },
  {
   "cell_type": "markdown",
   "id": "3cccca79",
   "metadata": {},
   "source": [
    "---"
   ]
  },
  {
   "cell_type": "markdown",
   "id": "42d7aad2",
   "metadata": {},
   "source": [
    "# S&P500 데이터 활용"
   ]
  },
  {
   "cell_type": "code",
   "execution_count": 52,
   "id": "a7105af9",
   "metadata": {},
   "outputs": [],
   "source": [
    "sp_500_df = pd.read_csv(\"./data/S_P500_Prices.csv\")\n"
   ]
  },
  {
   "cell_type": "code",
   "execution_count": null,
   "id": "c567a5a0",
   "metadata": {},
   "outputs": [
    {
     "data": {
      "text/plain": [
       "pandas.core.frame.DataFrame"
      ]
     },
     "execution_count": 53,
     "metadata": {},
     "output_type": "execute_result"
    }
   ],
   "source": [
    "type(sp_500_df)"
   ]
  },
  {
   "cell_type": "code",
   "execution_count": null,
   "id": "07280ce4",
   "metadata": {},
   "outputs": [
    {
     "name": "stdout",
     "output_type": "stream",
     "text": [
      "<class 'pandas.core.series.Series'>\n",
      "0       1295.500000\n",
      "1       1289.089966\n",
      "2       1293.670044\n",
      "3       1308.040039\n",
      "4       1314.500000\n",
      "           ...     \n",
      "2154    3327.770020\n",
      "2155    3349.159912\n",
      "2156    3351.280029\n",
      "2157    3360.469971\n",
      "2158    3333.689941\n",
      "Name: sp500, Length: 2159, dtype: float64\n"
     ]
    }
   ],
   "source": [
    "# df.squueze(): dataframe의 series가 하나인 경우 Series 객체 반환\n",
    "sp_500_ser = sp_500_df.squeeze()\n",
    "print(type(sp_500_ser))\n",
    "print(sp_500_ser)"
   ]
  },
  {
   "cell_type": "code",
   "execution_count": 55,
   "id": "ed136795",
   "metadata": {},
   "outputs": [
    {
     "name": "stdout",
     "output_type": "stream",
     "text": [
      "<class 'pandas.core.series.Series'>\n",
      "RangeIndex: 2159 entries, 0 to 2158\n",
      "Series name: sp500\n",
      "Non-Null Count  Dtype  \n",
      "--------------  -----  \n",
      "2159 non-null   float64\n",
      "dtypes: float64(1)\n",
      "memory usage: 17.0 KB\n"
     ]
    }
   ],
   "source": [
    "sp_500_ser.info()"
   ]
  },
  {
   "cell_type": "code",
   "execution_count": 56,
   "id": "244e2f9b",
   "metadata": {},
   "outputs": [
    {
     "data": {
      "text/plain": [
       "count    2159.000000\n",
       "mean     2218.749554\n",
       "std       537.321727\n",
       "min      1278.040039\n",
       "25%      1847.984985\n",
       "50%      2106.629883\n",
       "75%      2705.810059\n",
       "max      3386.149902\n",
       "Name: sp500, dtype: float64"
      ]
     },
     "execution_count": 56,
     "metadata": {},
     "output_type": "execute_result"
    }
   ],
   "source": [
    "sp_500_ser.describe()"
   ]
  },
  {
   "cell_type": "code",
   "execution_count": 57,
   "id": "eb43b798",
   "metadata": {},
   "outputs": [
    {
     "name": "stdout",
     "output_type": "stream",
     "text": [
      "2159\n",
      "1278.040039\n",
      "2106.629883\n",
      "3386.149902\n",
      "2218.7495540592868\n",
      "537.3217268874763\n",
      "288714.6381853397\n"
     ]
    }
   ],
   "source": [
    "print(sp_500_ser.count())\n",
    "print(sp_500_ser.min())\n",
    "print(sp_500_ser.median())\n",
    "print(sp_500_ser.max())\n",
    "print(sp_500_ser.mean())\n",
    "print(sp_500_ser.std())\n",
    "print(sp_500_ser.var())"
   ]
  },
  {
   "cell_type": "code",
   "execution_count": 83,
   "id": "fbf1d612",
   "metadata": {},
   "outputs": [
    {
     "name": "stdout",
     "output_type": "stream",
     "text": [
      "1416.51001\n",
      "100    1315.130005\n",
      "101    1314.989990\n",
      "102    1325.660034\n",
      "103    1308.930054\n",
      "104    1324.180054\n",
      "          ...     \n",
      "196    1433.819946\n",
      "197    1413.109985\n",
      "198    1408.750000\n",
      "199    1412.969971\n",
      "200    1411.939941\n",
      "Name: sp500, Length: 101, dtype: float64\n"
     ]
    }
   ],
   "source": [
    "# 인덱스 번호로 인덱싱 & 슬라이싱\n",
    "\n",
    "# 1. 인덱스 50의 값 출력\n",
    "print(sp_500_ser.iloc[50])\n",
    "\n",
    "# 2. 인덱스 100~200 사이의 값 출력\n",
    "print(sp_500_ser.iloc[100:201])"
   ]
  },
  {
   "cell_type": "code",
   "execution_count": 84,
   "id": "2b9fdd28",
   "metadata": {},
   "outputs": [
    {
     "name": "stdout",
     "output_type": "stream",
     "text": [
      "            sp500\n",
      "1000  2016.709961\n",
      "2000  3223.379883\n"
     ]
    }
   ],
   "source": [
    "# Famcy indexing\n",
    "# 1000번 index, 2000번 index 값 동시에 출력\n",
    "print(sp_500_df.iloc[[1000, 2000]])\n"
   ]
  },
  {
   "cell_type": "code",
   "execution_count": 85,
   "id": "07de6394",
   "metadata": {},
   "outputs": [
    {
     "name": "stdout",
     "output_type": "stream",
     "text": [
      "1885    3013.770020\n",
      "1886    3014.300049\n",
      "1887    3004.040039\n",
      "1892    3005.469971\n",
      "1893    3019.560059\n",
      "           ...     \n",
      "2154    3327.770020\n",
      "2155    3349.159912\n",
      "2156    3351.280029\n",
      "2157    3360.469971\n",
      "2158    3333.689941\n",
      "Name: sp500, Length: 160, dtype: float64\n",
      "\n",
      "1885    3013.770020\n",
      "1886    3014.300049\n",
      "1887    3004.040039\n",
      "1892    3005.469971\n",
      "1893    3019.560059\n",
      "           ...     \n",
      "2154    3327.770020\n",
      "2155    3349.159912\n",
      "2156    3351.280029\n",
      "2157    3360.469971\n",
      "2158    3333.689941\n",
      "Name: sp500, Length: 160, dtype: float64\n"
     ]
    }
   ],
   "source": [
    "# Boolean indexing\n",
    "# 값이 3000보다 큰 값 출력\n",
    "print(sp_500_ser[sp_500_ser>3000]) \n",
    "print()\n",
    "print(sp_500_ser[sp_500_ser.values>3000]) # 더 직관적으로 보이게 하기"
   ]
  },
  {
   "cell_type": "code",
   "execution_count": 86,
   "id": "7d7d7860",
   "metadata": {},
   "outputs": [
    {
     "name": "stdout",
     "output_type": "stream",
     "text": [
      "True\n",
      "False\n",
      "True\n"
     ]
    }
   ],
   "source": [
    "# in 연산: 특정 (무엇)을 가지고 있는지 여부\n",
    "print(1416.51001 in sp_500_ser.values) # 특정 값을 가지고 있는지 여부\n",
    "\n",
    "# .values를 안 붙히면 기본적으로 index로 찾음\n",
    "print(1416.51001 in sp_500_ser)\n",
    "print(2000 in sp_500_ser)"
   ]
  },
  {
   "cell_type": "code",
   "execution_count": 87,
   "id": "67954f6c",
   "metadata": {},
   "outputs": [
    {
     "name": "stdout",
     "output_type": "stream",
     "text": [
      "97      1278.040039\n",
      "98      1278.180054\n",
      "99      1285.500000\n",
      "1       1289.089966\n",
      "2       1293.670044\n",
      "           ...     \n",
      "2038    3373.229980\n",
      "2034    3373.939941\n",
      "2033    3379.449951\n",
      "2035    3380.159912\n",
      "2037    3386.149902\n",
      "Name: sp500, Length: 2159, dtype: float64\n"
     ]
    }
   ],
   "source": [
    "# 정렬\n",
    "print(sp_500_ser.sort_values()) # inplace연산 아님"
   ]
  },
  {
   "cell_type": "code",
   "execution_count": 88,
   "id": "bb165d74",
   "metadata": {},
   "outputs": [
    {
     "name": "stdout",
     "output_type": "stream",
     "text": [
      "2037    3386.149902\n",
      "2035    3380.159912\n",
      "2033    3379.449951\n",
      "2034    3373.939941\n",
      "2038    3373.229980\n",
      "           ...     \n",
      "2       1293.670044\n",
      "1       1289.089966\n",
      "99      1285.500000\n",
      "98      1278.180054\n",
      "97      1278.040039\n",
      "Name: sp500, Length: 2159, dtype: float64\n"
     ]
    }
   ],
   "source": [
    "desc_sorted_sp = sp_500_ser.sort_values(ascending=False)\n",
    "print(desc_sorted_sp)"
   ]
  }
 ],
 "metadata": {
  "kernelspec": {
   "display_name": "pystudy_env",
   "language": "python",
   "name": "python3"
  },
  "language_info": {
   "codemirror_mode": {
    "name": "ipython",
    "version": 3
   },
   "file_extension": ".py",
   "mimetype": "text/x-python",
   "name": "python",
   "nbconvert_exporter": "python",
   "pygments_lexer": "ipython3",
   "version": "3.12.11"
  }
 },
 "nbformat": 4,
 "nbformat_minor": 5
}
