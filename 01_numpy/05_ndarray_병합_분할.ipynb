{
 "cells": [
  {
   "cell_type": "markdown",
   "id": "642796a0",
   "metadata": {},
   "source": [
    "# ndarray 병합 및 분할"
   ]
  },
  {
   "cell_type": "code",
   "execution_count": 2,
   "id": "a6faf95d",
   "metadata": {},
   "outputs": [],
   "source": [
    "import numpy as np"
   ]
  },
  {
   "cell_type": "markdown",
   "id": "8b6e9509",
   "metadata": {},
   "source": [
    "### ndarray 요소 추가 및 삭제\n",
    "- ndarray는 고정 길이 배열이다 == 크기 변경이 불가하다 == 요소 추가 불가\n",
    "- 하지만, np.append() & np.insert() 로 새로운 배열을 만드는 것은 가능"
   ]
  },
  {
   "cell_type": "code",
   "execution_count": 7,
   "id": "ac402690",
   "metadata": {},
   "outputs": [
    {
     "name": "stdout",
     "output_type": "stream",
     "text": [
      "[10 20 30]\n",
      "[10 20 30 40]\n",
      "[ 10 999  20  30]\n",
      "False\n"
     ]
    }
   ],
   "source": [
    "# np.append(원본배열, 삽입할 요소) -> 요소를 추가한 새로운 배열 반환\n",
    "# np.insert(원본배열, 삽입할 위치 인덱스, 삽입할 요소)-> 요소를 추가한 새로운 배열 반환\n",
    "arr = np.array([10,20,30])\n",
    "\n",
    "arr1 = np.append(arr, 40)\n",
    "arr2 = np.insert(arr, 1, 999) # 1번 index에 999 넣기\n",
    "\n",
    "print(arr)\n",
    "print(arr1)\n",
    "print(arr2)\n",
    "\n",
    "print(arr2 is arr) # 객체 비교 (== 쓰면 안 됨)"
   ]
  },
  {
   "cell_type": "code",
   "execution_count": 14,
   "id": "57772b80",
   "metadata": {},
   "outputs": [
    {
     "name": "stdout",
     "output_type": "stream",
     "text": [
      "[[ 1  2  3  4]\n",
      " [ 5  6  7  8]\n",
      " [ 9 10 11 12]] \n",
      "\n",
      "[  1 100   2   3   4   5   6   7   8   9  10  11  12] \n",
      "\n",
      "[[  1   2   3   4]\n",
      " [100 100 100 100]\n",
      " [  5   6   7   8]\n",
      " [  9  10  11  12]] \n",
      "\n",
      "[[  1 100   2   3   4]\n",
      " [  5 100   6   7   8]\n",
      " [  9 100  10  11  12]]\n"
     ]
    }
   ],
   "source": [
    "# 2차원 배열에서 insert()\n",
    "arr2d = np.arange(1,13).reshape(3,4)\n",
    "print(arr2d, '\\n')\n",
    "\n",
    "#np.append(arr2d, 100)\n",
    "print(np.insert(arr2d, 1, 100), '\\n')\n",
    "\n",
    "# 파라미터 -> 원본배열, 삽입할 위치 인덱스, 삽입할 요소, axis (0/1)\n",
    "print(np.insert(arr2d, 1, 100, axis=0), '\\n')\n",
    "print(np.insert(arr2d, 1, 100, axis=1))"
   ]
  },
  {
   "cell_type": "code",
   "execution_count": 18,
   "id": "c8f9a611",
   "metadata": {},
   "outputs": [
    {
     "name": "stdout",
     "output_type": "stream",
     "text": [
      "[[  1 100   2   3   4]\n",
      " [  5 100   6   7   8]\n",
      " [  9 100  10  11  12]] \n",
      "\n",
      "[[  1 100   2   3   4]\n",
      " [  5 100   6   7   8]\n",
      " [  9 100  10  11  12]] \n",
      "\n",
      "[[  1 200   2   3   4]\n",
      " [  5 300   6   7   8]\n",
      " [  9 400  10  11  12]] \n",
      "\n",
      "[[  1   2   3   4]\n",
      " [200 300 400 500]\n",
      " [  5   6   7   8]\n",
      " [  9  10  11  12]]\n"
     ]
    }
   ],
   "source": [
    "print(np.insert(arr2d, 1, 100, axis=1), '\\n')\n",
    "print(np.insert(arr2d, 1, [100], axis=1), '\\n')\n",
    "print(np.insert(arr2d, 1, [200, 300, 400], axis=1), '\\n')\n",
    "#print(np.insert(arr2d, 1, [200, 300, 400], axis=0)) # shape 안맞아서 에러\n",
    "print(np.insert(arr2d, 1, [200, 300, 400, 500], axis=0)) "
   ]
  },
  {
   "cell_type": "code",
   "execution_count": 19,
   "id": "03e0ebfc",
   "metadata": {},
   "outputs": [
    {
     "name": "stdout",
     "output_type": "stream",
     "text": [
      "[ 1  2  3  4  5  6  7  8  9 10 11 12 13 14]\n",
      "[ 1  2  3  4  5  6  7  9 10 11 12 13 14]\n"
     ]
    }
   ],
   "source": [
    "# np.delet(원본배열, 삭제 요소 인덱스) -> 요소를 삭제한 새로운 배열 반환\n",
    "arr = np.arange(1,15)\n",
    "arr1 = np.delete(arr, 7)\n",
    "\n",
    "print(arr)\n",
    "print(arr1)"
   ]
  },
  {
   "cell_type": "code",
   "execution_count": 20,
   "id": "c79a88c9",
   "metadata": {},
   "outputs": [
    {
     "name": "stdout",
     "output_type": "stream",
     "text": [
      "[[ 1  2  3  4]\n",
      " [ 5  6  7  8]\n",
      " [ 9 10 11 12]] \n",
      "\n",
      "[ 1  3  4  5  6  7  8  9 10 11 12] \n",
      "\n",
      "[[ 1  2  3  4]\n",
      " [ 9 10 11 12]] \n",
      "\n",
      "[[ 1  3  4]\n",
      " [ 5  7  8]\n",
      " [ 9 11 12]] \n",
      "\n"
     ]
    }
   ],
   "source": [
    "arr2d = np.arange(1,13).reshape(3,4)\n",
    "\n",
    "print(arr2d, '\\n')\n",
    "print(np.delete(arr2d, 1), '\\n') # axis=None: 1차원 배열 변환 후 요소 삭제\n",
    "print(np.delete(arr2d, 1, axis=0), '\\n')\n",
    "print(np.delete(arr2d, 1, axis=1), '\\n')"
   ]
  },
  {
   "cell_type": "markdown",
   "id": "a971f46c",
   "metadata": {},
   "source": [
    "### ndarray 병합\n",
    "- np.append() -> 기본 축 = None\n",
    "- np.vstack()\n",
    "- np.hstack()\n",
    "- np.concatenate()-> append와 비슷하지만 튜플/리스트로 묶어서 전달 & 기본 축=0"
   ]
  },
  {
   "cell_type": "code",
   "execution_count": 21,
   "id": "2ee9f54a",
   "metadata": {},
   "outputs": [
    {
     "data": {
      "text/plain": [
       "(array([[ 1,  2,  3,  4],\n",
       "        [ 5,  6,  7,  8],\n",
       "        [ 9, 10, 11, 12]]),\n",
       " array([[13, 14, 15, 16],\n",
       "        [17, 18, 19, 20],\n",
       "        [21, 22, 23, 24]]))"
      ]
     },
     "execution_count": 21,
     "metadata": {},
     "output_type": "execute_result"
    }
   ],
   "source": [
    "arr1 = np.arange(1,13).reshape(3,4)\n",
    "arr2 = np.arange(13,25).reshape(3,4) \n",
    "arr1, arr2"
   ]
  },
  {
   "cell_type": "code",
   "execution_count": 27,
   "id": "df3220bb",
   "metadata": {},
   "outputs": [
    {
     "name": "stdout",
     "output_type": "stream",
     "text": [
      "[ 1  2  3  4  5  6  7  8  9 10 11 12 13 14 15 16 17 18 19 20 21 22 23 24] \n",
      "\n",
      "[[ 1  2  3  4]\n",
      " [ 5  6  7  8]\n",
      " [ 9 10 11 12]\n",
      " [13 14 15 16]\n",
      " [17 18 19 20]\n",
      " [21 22 23 24]] \n",
      "\n",
      "[[ 1  2  3  4 13 14 15 16]\n",
      " [ 5  6  7  8 17 18 19 20]\n",
      " [ 9 10 11 12 21 22 23 24]] \n",
      "\n"
     ]
    }
   ],
   "source": [
    "# np.append()\n",
    "print(np.append(arr1, arr2), '\\n') # axis=None\n",
    "print(np.append(arr1, arr2, axis=0), '\\n')\n",
    "print(np.append(arr1, arr2, axis=1), '\\n')"
   ]
  },
  {
   "cell_type": "code",
   "execution_count": 28,
   "id": "aaaa9b2c",
   "metadata": {},
   "outputs": [
    {
     "data": {
      "text/plain": [
       "array([[ 1,  2,  3,  4],\n",
       "       [ 5,  6,  7,  8],\n",
       "       [ 9, 10, 11, 12],\n",
       "       [13, 14, 15, 16],\n",
       "       [17, 18, 19, 20],\n",
       "       [21, 22, 23, 24]])"
      ]
     },
     "execution_count": 28,
     "metadata": {},
     "output_type": "execute_result"
    }
   ],
   "source": [
    "# np.vstack(): axis=0 병합\n",
    "# 병합 대상 ndarray를 튜플/리스트로 묶어서 전달해야 함\n",
    "np.vstack((arr1,arr2))"
   ]
  },
  {
   "cell_type": "code",
   "execution_count": 29,
   "id": "5cf5789b",
   "metadata": {},
   "outputs": [
    {
     "data": {
      "text/plain": [
       "array([[ 1,  2,  3,  4, 13, 14, 15, 16],\n",
       "       [ 5,  6,  7,  8, 17, 18, 19, 20],\n",
       "       [ 9, 10, 11, 12, 21, 22, 23, 24]])"
      ]
     },
     "execution_count": 29,
     "metadata": {},
     "output_type": "execute_result"
    }
   ],
   "source": [
    "# np.hstack(): axis=1 병합\n",
    "# 병합 대상 ndarray를 튜플/리스트로 묶어서 전달해야 함\n",
    "np.hstack([arr1,arr2])"
   ]
  },
  {
   "cell_type": "code",
   "execution_count": 32,
   "id": "21d5ea8a",
   "metadata": {},
   "outputs": [
    {
     "name": "stdout",
     "output_type": "stream",
     "text": [
      "[[ 1  2  3  4]\n",
      " [ 5  6  7  8]\n",
      " [ 9 10 11 12]\n",
      " [13 14 15 16]\n",
      " [17 18 19 20]\n",
      " [21 22 23 24]] \n",
      "\n",
      "[[ 1  2  3  4]\n",
      " [ 5  6  7  8]\n",
      " [ 9 10 11 12]\n",
      " [13 14 15 16]\n",
      " [17 18 19 20]\n",
      " [21 22 23 24]] \n",
      "\n",
      "[[ 1  2  3  4 13 14 15 16]\n",
      " [ 5  6  7  8 17 18 19 20]\n",
      " [ 9 10 11 12 21 22 23 24]] \n",
      "\n",
      "[ 1  2  3  4  5  6  7  8  9 10 11 12 13 14 15 16 17 18 19 20 21 22 23 24] \n",
      "\n"
     ]
    }
   ],
   "source": [
    "# np.concatenate()\n",
    "# 병합 대상 ndarray를 튜플/리스트로 묶어서 전달해야 함\n",
    "print(np.concatenate((arr1,arr2)),'\\n') # axis 기본값 == 0\n",
    "print(np.concatenate((arr1,arr2), axis=0),'\\n')\n",
    "print(np.concatenate((arr1,arr2), axis=1),'\\n')\n",
    "print(np.concatenate((arr1,arr2), axis=None),'\\n')"
   ]
  },
  {
   "cell_type": "markdown",
   "id": "7645bda2",
   "metadata": {},
   "source": [
    "### ndarray\n",
    "- split()\n"
   ]
  },
  {
   "cell_type": "code",
   "execution_count": 37,
   "id": "d9a5298f",
   "metadata": {},
   "outputs": [
    {
     "name": "stdout",
     "output_type": "stream",
     "text": [
      "(6, 4)\n",
      "[array([[ 1,  2,  3,  4],\n",
      "       [ 5,  6,  7,  8],\n",
      "       [ 9, 10, 11, 12]]), array([[13, 14, 15, 16],\n",
      "       [17, 18, 19, 20],\n",
      "       [21, 22, 23, 24]])] \n",
      "\n",
      "[array([[ 1,  2,  3,  4],\n",
      "       [ 5,  6,  7,  8],\n",
      "       [ 9, 10, 11, 12]]), array([[13, 14, 15, 16],\n",
      "       [17, 18, 19, 20],\n",
      "       [21, 22, 23, 24]])] \n",
      "\n",
      "[array([[ 1,  2],\n",
      "       [ 5,  6],\n",
      "       [ 9, 10],\n",
      "       [13, 14],\n",
      "       [17, 18],\n",
      "       [21, 22]]), array([[ 3,  4],\n",
      "       [ 7,  8],\n",
      "       [11, 12],\n",
      "       [15, 16],\n",
      "       [19, 20],\n",
      "       [23, 24]])] \n",
      "\n"
     ]
    }
   ],
   "source": [
    "arr = np.concatenate((arr1, arr2))\n",
    "print(arr.shape)\n",
    "\n",
    "# np.split(원본배열, 분할 개수, axiz)\n",
    "print(np.split(arr,2), '\\n') # default axis == 0\n",
    "print(np.split(arr,2, axis=0), '\\n') # default axis == 0\n",
    "print(np.split(arr,2, axis=1), '\\n')"
   ]
  },
  {
   "cell_type": "code",
   "execution_count": 42,
   "id": "07e9065f",
   "metadata": {},
   "outputs": [
    {
     "name": "stdout",
     "output_type": "stream",
     "text": [
      "[array([[ 1,  2,  3,  4],\n",
      "       [ 5,  6,  7,  8],\n",
      "       [ 9, 10, 11, 12]]), array([[13, 14, 15, 16],\n",
      "       [17, 18, 19, 20],\n",
      "       [21, 22, 23, 24]])] \n",
      "\n",
      "[array([[ 1,  2],\n",
      "       [ 5,  6],\n",
      "       [ 9, 10],\n",
      "       [13, 14],\n",
      "       [17, 18],\n",
      "       [21, 22]]), array([[ 3,  4],\n",
      "       [ 7,  8],\n",
      "       [11, 12],\n",
      "       [15, 16],\n",
      "       [19, 20],\n",
      "       [23, 24]])] \n",
      "\n"
     ]
    }
   ],
   "source": [
    "n = 2\n",
    "\n",
    "# 약수(factor)의 개수로만 분할 가능\n",
    "\n",
    "# arr의 shape: (6,4)\n",
    "print(np.split(arr,n,axis=0), '\\n') # 행 기준 약수 -> 6행: 1,2,3,6 가능\n",
    "print(np.split(arr,n,axis=1), '\\n') # 열 기준 약수 -> 4열: 1,2,4 가능"
   ]
  }
 ],
 "metadata": {
  "kernelspec": {
   "display_name": "pystudy_env",
   "language": "python",
   "name": "python3"
  },
  "language_info": {
   "codemirror_mode": {
    "name": "ipython",
    "version": 3
   },
   "file_extension": ".py",
   "mimetype": "text/x-python",
   "name": "python",
   "nbconvert_exporter": "python",
   "pygments_lexer": "ipython3",
   "version": "3.12.11"
  }
 },
 "nbformat": 4,
 "nbformat_minor": 5
}
