{
 "cells": [
  {
   "cell_type": "code",
   "execution_count": 1,
   "id": "59046764",
   "metadata": {},
   "outputs": [],
   "source": [
    "import numpy as np"
   ]
  },
  {
   "cell_type": "markdown",
   "id": "ae2896fa",
   "metadata": {},
   "source": [
    "다음과 같은 과일 판매량 데이터가 있습니다. 각 과일의 1분기와 2분기 판매량이 주어졌을 때, NumPy 배열을 사용하여 아래 문제를 해결하세요."
   ]
  },
  {
   "cell_type": "code",
   "execution_count": 10,
   "id": "dcce695f",
   "metadata": {},
   "outputs": [],
   "source": [
    "# 사과, 배, 오렌지, 바나나\n",
    "fruit_sales = np.array([[200, 340, 150, 400], [220, 300, 180, 420]])"
   ]
  },
  {
   "cell_type": "code",
   "execution_count": 14,
   "id": "2cb6e441",
   "metadata": {},
   "outputs": [
    {
     "name": "stdout",
     "output_type": "stream",
     "text": [
      "Q1 Net: 1090\n",
      "Q2 Net: 1120\n"
     ]
    }
   ],
   "source": [
    "# 1. 1분기와 2분기의 과일별 총 판매량을 구하세요.\n",
    "print(\"Q1 Net:\", fruit_sales.sum(axis=1)[0])\n",
    "print(\"Q2 Net:\", fruit_sales.sum(axis=1)[1])"
   ]
  },
  {
   "cell_type": "code",
   "execution_count": 16,
   "id": "8fd0cedc",
   "metadata": {},
   "outputs": [
    {
     "name": "stdout",
     "output_type": "stream",
     "text": [
      "[210. 320. 165. 410.]\n"
     ]
    }
   ],
   "source": [
    "# 2. 과일별 평균 판매량을 구하세요.\n",
    "print(fruit_sales.mean(axis=0))"
   ]
  },
  {
   "cell_type": "markdown",
   "id": "af971be4",
   "metadata": {},
   "source": [
    "다음 두 배열을 사용하여 각각의 요소별로 덧셈, 뺄셈, 곱셈, 나눗셈을 수행하세요."
   ]
  },
  {
   "cell_type": "code",
   "execution_count": 17,
   "id": "69aa375e",
   "metadata": {},
   "outputs": [],
   "source": [
    "arr1 = np.array([1, 2, 3])\n",
    "arr2 = np.array([4, 5, 6])"
   ]
  },
  {
   "cell_type": "code",
   "execution_count": 19,
   "id": "09dc47fe",
   "metadata": {},
   "outputs": [
    {
     "name": "stdout",
     "output_type": "stream",
     "text": [
      "[5 7 9]\n",
      "[-3 -3 -3]\n",
      "[ 4 10 18]\n",
      "[0.25 0.4  0.5 ]\n"
     ]
    }
   ],
   "source": [
    "print(arr1+arr2)\n",
    "print(arr1-arr2)\n",
    "print(arr1*arr2)\n",
    "print(arr1/arr2)"
   ]
  },
  {
   "cell_type": "markdown",
   "id": "e7d06cdc",
   "metadata": {},
   "source": [
    "# [실습 3] 브로드캐스팅\n",
    "아래의 2차원 배열과 1차원 배열을 브로드캐스팅하여 더하세요."
   ]
  },
  {
   "cell_type": "code",
   "execution_count": 21,
   "id": "1309351f",
   "metadata": {},
   "outputs": [
    {
     "name": "stdout",
     "output_type": "stream",
     "text": [
      "[[11 22 33]\n",
      " [14 25 36]]\n"
     ]
    }
   ],
   "source": [
    "arr2d = np.array([[1, 2, 3], [4, 5, 6]]) # (2,3)\n",
    "arr1d = np.array([10, 20, 30]) # (3,) -> (1,3)\n",
    "\n",
    "print(arr2d + arr1d)"
   ]
  },
  {
   "cell_type": "markdown",
   "id": "b46d5efb",
   "metadata": {},
   "source": [
    "# [실습 4] 비교 연산 및 집계 함수 사용"
   ]
  },
  {
   "cell_type": "code",
   "execution_count": 22,
   "id": "106778a0",
   "metadata": {},
   "outputs": [],
   "source": [
    "arr = np.array([10, 20, 30, 40, 50])"
   ]
  },
  {
   "cell_type": "code",
   "execution_count": 24,
   "id": "985dbfc2",
   "metadata": {},
   "outputs": [
    {
     "name": "stdout",
     "output_type": "stream",
     "text": [
      "[30 40 50]\n"
     ]
    }
   ],
   "source": [
    "# 1. 배열에서 20보다 큰 값을 찾아 출력하세요.\n",
    "print(arr[arr>20])"
   ]
  },
  {
   "cell_type": "code",
   "execution_count": 26,
   "id": "2b14242d",
   "metadata": {},
   "outputs": [
    {
     "name": "stdout",
     "output_type": "stream",
     "text": [
      "150\n",
      "50\n",
      "10\n",
      "30.0\n"
     ]
    }
   ],
   "source": [
    "# 2. 배열의 합계, 최대값, 최소값, 평균을 계산하세요.\n",
    "print(arr.sum())\n",
    "print(arr.max())\n",
    "print(arr.min())\n",
    "print(arr.mean())"
   ]
  }
 ],
 "metadata": {
  "kernelspec": {
   "display_name": "pystudy_env",
   "language": "python",
   "name": "python3"
  },
  "language_info": {
   "codemirror_mode": {
    "name": "ipython",
    "version": 3
   },
   "file_extension": ".py",
   "mimetype": "text/x-python",
   "name": "python",
   "nbconvert_exporter": "python",
   "pygments_lexer": "ipython3",
   "version": "3.12.11"
  }
 },
 "nbformat": 4,
 "nbformat_minor": 5
}
