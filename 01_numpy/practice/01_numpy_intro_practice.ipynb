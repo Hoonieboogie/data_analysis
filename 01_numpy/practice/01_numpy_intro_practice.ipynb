{
 "cells": [
  {
   "cell_type": "code",
   "execution_count": 9,
   "id": "e56d8938",
   "metadata": {},
   "outputs": [],
   "source": [
    "import numpy as np"
   ]
  },
  {
   "cell_type": "markdown",
   "id": "7a6ffb54",
   "metadata": {},
   "source": [
    "# 배열 생성하세요"
   ]
  },
  {
   "cell_type": "code",
   "execution_count": 14,
   "id": "da914f46",
   "metadata": {},
   "outputs": [
    {
     "data": {
      "text/plain": [
       "array([[0, 0, 0],\n",
       "       [0, 0, 0],\n",
       "       [0, 0, 0],\n",
       "       [0, 0, 0]])"
      ]
     },
     "execution_count": 14,
     "metadata": {},
     "output_type": "execute_result"
    }
   ],
   "source": [
    "# 1. 크기가 4x3인 모든 값이 0인 배열\n",
    "zeroes_arr = np.zeros((4,3), dtype=int)\n",
    "zeroes_arr"
   ]
  },
  {
   "cell_type": "code",
   "execution_count": 17,
   "id": "95a450b1",
   "metadata": {},
   "outputs": [
    {
     "data": {
      "text/plain": [
       "array([[1, 1, 1],\n",
       "       [1, 1, 1],\n",
       "       [1, 1, 1]])"
      ]
     },
     "execution_count": 17,
     "metadata": {},
     "output_type": "execute_result"
    }
   ],
   "source": [
    "# 2. 크기가 3x3인 모든 값이 1인 배열\n",
    "ones_arr = np.ones((3,3), dtype=int)\n",
    "ones_arr"
   ]
  },
  {
   "cell_type": "code",
   "execution_count": 18,
   "id": "d1ed6a0a",
   "metadata": {},
   "outputs": [
    {
     "data": {
      "text/plain": [
       "array([ 0,  5, 10, 15, 20])"
      ]
     },
     "execution_count": 18,
     "metadata": {},
     "output_type": "execute_result"
    }
   ],
   "source": [
    "# 3. 0에서 20까지 5씩 증가하는 값으로 구성된 배열\n",
    "arith_arr1 = np.arange(0,21,5)\n",
    "arith_arr1"
   ]
  },
  {
   "cell_type": "code",
   "execution_count": 19,
   "id": "bcf14064",
   "metadata": {},
   "outputs": [
    {
     "data": {
      "text/plain": [
       "array([0.        , 0.33333333, 0.66666667, 1.        ])"
      ]
     },
     "execution_count": 19,
     "metadata": {},
     "output_type": "execute_result"
    }
   ],
   "source": [
    "# 4. 0과 1 사이의 4개의 등간격 값을 가진 배열\n",
    "arith_arr2 = np.linspace(0,1,4)\n",
    "arith_arr2"
   ]
  },
  {
   "cell_type": "code",
   "execution_count": null,
   "id": "7927986c",
   "metadata": {},
   "outputs": [
    {
     "data": {
      "text/plain": [
       "array([[ 1.34998256,  0.13048519],\n",
       "       [ 0.11932465, -0.30920604]])"
      ]
     },
     "execution_count": 20,
     "metadata": {},
     "output_type": "execute_result"
    }
   ],
   "source": [
    "# 5. 크기가 2x2인 정규 분포로 구성된 배열\n",
    "\n",
    "arr_norm = np.random.normal(loc=0.0, scale=1.0, size=(2, 2))\n",
    "\"\"\"\n",
    "loc=0.0: mean of the distribution (mu)\n",
    "\n",
    "scale=1.0: standard deviation (sigma)\n",
    "\n",
    "size=(2, 2): shape of the output array \n",
    "\"\"\"\n",
    "arr_norm"
   ]
  },
  {
   "cell_type": "markdown",
   "id": "e2c0f084",
   "metadata": {},
   "source": [
    "# 아래 배열에서 인덱싱과 슬라이싱을 사용하여 다음 작업을 수행하세요."
   ]
  },
  {
   "cell_type": "code",
   "execution_count": 21,
   "id": "f6b0e656",
   "metadata": {},
   "outputs": [],
   "source": [
    "arr = np.array([[10, 20, 30], [40, 50, 60], [70, 80, 90]])"
   ]
  },
  {
   "cell_type": "code",
   "execution_count": 22,
   "id": "47235d6b",
   "metadata": {},
   "outputs": [
    {
     "name": "stdout",
     "output_type": "stream",
     "text": [
      "60\n"
     ]
    }
   ],
   "source": [
    "# 1. 배열 arr에서 2번째 행, 3번째 열의 값을 출력\n",
    "print(arr[1,2])"
   ]
  },
  {
   "cell_type": "code",
   "execution_count": 24,
   "id": "bfeddbba",
   "metadata": {},
   "outputs": [
    {
     "name": "stdout",
     "output_type": "stream",
     "text": [
      "[[10]\n",
      " [40]\n",
      " [70]]\n"
     ]
    }
   ],
   "source": [
    "# 2. 배열 arr에서 1번째 열만 추출\n",
    "print(arr[:, 0:1])"
   ]
  },
  {
   "cell_type": "code",
   "execution_count": 25,
   "id": "5b672aa3",
   "metadata": {},
   "outputs": [
    {
     "name": "stdout",
     "output_type": "stream",
     "text": [
      "[[10 20]\n",
      " [40 50]]\n"
     ]
    }
   ],
   "source": [
    "# 3. 배열 arr에서 첫 번째 행부터 두 번째 행까지 선택하고, 0번째와 1번째 열만 추출\n",
    "print(arr[:2, :2])"
   ]
  },
  {
   "cell_type": "markdown",
   "id": "f36f883f",
   "metadata": {},
   "source": [
    "# [실습 2] 팬시 인덱싱과 불리언 인덱싱"
   ]
  },
  {
   "cell_type": "code",
   "execution_count": 26,
   "id": "b4e05803",
   "metadata": {},
   "outputs": [],
   "source": [
    "arr = np.array([10, 20, 30, 40, 50, 60, 70])"
   ]
  },
  {
   "cell_type": "code",
   "execution_count": 28,
   "id": "1ec47af6",
   "metadata": {},
   "outputs": [
    {
     "name": "stdout",
     "output_type": "stream",
     "text": [
      "[10 30 50]\n"
     ]
    }
   ],
   "source": [
    "# 1. 팬시 인덱싱을 사용하여 배열의 0번째, 2번째, 4번째 요소를 출력\n",
    "indices = [0,2,4]\n",
    "print(arr[indices])"
   ]
  },
  {
   "cell_type": "code",
   "execution_count": 29,
   "id": "f00faa93",
   "metadata": {},
   "outputs": [
    {
     "name": "stdout",
     "output_type": "stream",
     "text": [
      "[60 70]\n"
     ]
    }
   ],
   "source": [
    "# 2. 배열의 값 중 50보다 큰 값만 추출\n",
    "print(arr[arr > 50])"
   ]
  },
  {
   "cell_type": "markdown",
   "id": "e609a923",
   "metadata": {},
   "source": [
    "# [실습 3] 제품 판매 데이터 분석\n",
    "어느 마트에서 판매되는 제품들의 월별 매출량이 아래와 같이 주어졌습니다. 각각의 행은 제품을 나타내고, 열은 각 월의 판매량을 나타냅니다."
   ]
  },
  {
   "cell_type": "code",
   "execution_count": 72,
   "id": "ae2b0b4f",
   "metadata": {},
   "outputs": [],
   "source": [
    "sales = np.array([[120, 150, 100],\n",
    "                  [80, 90, 110],\n",
    "                  [200, 180, 220],\n",
    "                  [50, 45, 70],\n",
    "                  [300, 320, 310]])"
   ]
  },
  {
   "cell_type": "code",
   "execution_count": 106,
   "id": "9901f1b7",
   "metadata": {},
   "outputs": [
    {
     "name": "stdout",
     "output_type": "stream",
     "text": [
      "[[300 320 310]]\n",
      "[200 220 300 320 310]\n",
      "False\n"
     ]
    }
   ],
   "source": [
    " # 1. 월별 판매량이 200개 이상인 제품의 판매량을 선택하라.\n",
    "\n",
    "# 모든 월의 판매량이 200이 넘는 제품 \n",
    "print(sales[np.all(sales >= 200, axis=1), : ]) \n",
    "\n",
    "#  200 이상인 판매량\n",
    "print(sales[sales>=200])\n",
    "\n",
    "# 천체 값이 200이상? False\n",
    "print(np.all(sales >= 200)) \n"
   ]
  },
  {
   "cell_type": "code",
   "execution_count": 97,
   "id": "a99cd265",
   "metadata": {},
   "outputs": [
    {
     "name": "stdout",
     "output_type": "stream",
     "text": [
      "[[120 150]\n",
      " [ 50  45]] \n",
      "\n",
      "Samness test:\n",
      " [[120 150]\n",
      " [ 50  45]]\n",
      "\n",
      "[[120 150]\n",
      " [ 50  45]]\n"
     ]
    }
   ],
   "source": [
    "# 2. 3월(세 번째 열)의 판매량이 100개 이하인 제품의 1월과 2월 판매량을 추출하라.\n",
    "\n",
    "# 방법 1\n",
    "match_condition = sales[:, 2] <= 100 # 1D boolean array\n",
    "print(sales[match_condition, :2], '\\n')\n",
    "print('Samness test:\\n', sales[(sales[:,2]<=100), :2]) # same\n",
    "\n",
    "print()\n",
    "\n",
    "# 방법 2 (가독성 bad)\n",
    "mask = sales[:, 2] <= 100 # 1D array for 3rd colum boolean => [ True False False  True False] \n",
    "print(sales[np.any([mask], axis=0), :2]) # axis 0: column, axis 1; row\n"
   ]
  },
  {
   "cell_type": "code",
   "execution_count": null,
   "id": "d09ae837",
   "metadata": {},
   "outputs": [
    {
     "name": "stdout",
     "output_type": "stream",
     "text": [
      "[[120 150 100]\n",
      " [200 180 220]\n",
      " [300 320 310]]\n"
     ]
    }
   ],
   "source": [
    "# 3. 2월(두 번째 열)의 판매량이 150개 이상인 제품들의 전체 월별 판매량을 출력하라.\n",
    "match_condition = sales[:, 1] >= 150 \n",
    "print(sales[match_condition]) # = sales[match_condition, :]"
   ]
  }
 ],
 "metadata": {
  "kernelspec": {
   "display_name": "pystudy_env",
   "language": "python",
   "name": "python3"
  },
  "language_info": {
   "codemirror_mode": {
    "name": "ipython",
    "version": 3
   },
   "file_extension": ".py",
   "mimetype": "text/x-python",
   "name": "python",
   "nbconvert_exporter": "python",
   "pygments_lexer": "ipython3",
   "version": "3.12.11"
  }
 },
 "nbformat": 4,
 "nbformat_minor": 5
}
