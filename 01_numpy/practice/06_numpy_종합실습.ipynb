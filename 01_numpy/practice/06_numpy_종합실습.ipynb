{
 "cells": [
  {
   "cell_type": "markdown",
   "id": "bdf3c5e4",
   "metadata": {},
   "source": [
    "다음은 5개 지점에서 판매된 과일에 대한 월별 판매량 데이터입니다. 이 데이터는 각 지점의 판매량을 월별로 나타내며, 각 지점에서 판매된 사과, 바나나, 오렌지의 판매량이 기록되어 있습니다. 이 데이터를 사용하여 여러 가지 통계적 분석과 배열 조작을 수행하세요."
   ]
  },
  {
   "cell_type": "code",
   "execution_count": 2,
   "id": "5b002078",
   "metadata": {},
   "outputs": [],
   "source": [
    "import numpy as np\n",
    "\n",
    "# 5개 지점의 월별 사과, 바나나, 오렌지 판매량 (5x3x6 배열)\n",
    "# 5개의 지점, 3개의 과일(사과, 바나나, 오렌지), 6개월치 데이터\n",
    "sales_data = np.array([\n",
    "    # 지점 1\n",
    "    [[120, 150, 200, 230, 180, 210],  # 사과 판매량\n",
    "     [100, 140, 170, 190, 160, 180],  # 바나나 판매량\n",
    "     [90, 120, 160, 140, 130, 150]],  # 오렌지 판매량\n",
    "\n",
    "    # 지점 2\n",
    "    [[80, 90, 110, 140, 130, 120],\n",
    "     [60, 70, 90, 100, 110, 95],\n",
    "     [50, 80, 100, 110, 90, 85]],\n",
    "\n",
    "    # 지점 3\n",
    "    [[130, 140, 160, 180, 170, 190],\n",
    "     [110, 120, 130, 150, 140, 160],\n",
    "     [100, 110, 120, 130, 120, 140]],\n",
    "\n",
    "    # 지점 4\n",
    "    [[100, 130, 150, 170, 160, 180],\n",
    "     [90, 100, 110, 120, 130, 125],\n",
    "     [80, 110, 140, 130, 120, 110]],\n",
    "\n",
    "    # 지점 5\n",
    "    [[90, 110, 130, 140, 120, 130],\n",
    "     [70, 85, 100, 110, 105, 95],\n",
    "     [60, 90, 110, 100, 90, 95]]\n",
    "])"
   ]
  },
  {
   "cell_type": "markdown",
   "id": "470d4831",
   "metadata": {},
   "source": [
    "1. 각 지점에서 6개월 동안 판매된 사과, 바나나, 오렌지의 월별 평균 판매량을 계산하세요."
   ]
  },
  {
   "cell_type": "code",
   "execution_count": null,
   "id": "ff0fb599",
   "metadata": {},
   "outputs": [
    {
     "name": "stdout",
     "output_type": "stream",
     "text": [
      "[[181.66666667 156.66666667 131.66666667]\n",
      " [111.66666667  87.5         85.83333333]\n",
      " [161.66666667 135.         120.        ]\n",
      " [148.33333333 112.5        115.        ]\n",
      " [120.          94.16666667  90.83333333]]\n"
     ]
    }
   ],
   "source": [
    "\"\"\" 출력값:\n",
    "array([[181.66666667, 156.66666667, 131.66666667],\n",
    "       [111.66666667,  87.5       ,  85.83333333],\n",
    "       [161.66666667, 135.        , 120.        ],\n",
    "       [148.33333333, 112.5       , 115.        ],\n",
    "       [120.        ,  94.16666667,  90.83333333]])\n",
    "\"\"\"\n",
    "fruit_sales_avg = np.mean(sales_data, axis = 2)\n",
    "print(fruit_sales_avg)"
   ]
  },
  {
   "cell_type": "markdown",
   "id": "a2d7937f",
   "metadata": {},
   "source": [
    "2. 각 월마다 전체 지점에서 가장 많이 판매된 과일을 찾아 판매량과 과일명을 출력하세요."
   ]
  },
  {
   "cell_type": "code",
   "execution_count": 12,
   "id": "dc4a030a",
   "metadata": {},
   "outputs": [
    {
     "name": "stdout",
     "output_type": "stream",
     "text": [
      "[[520 620 750 860 760 830]\n",
      " [430 515 600 670 645 655]\n",
      " [380 510 630 610 550 580]] \n",
      "\n",
      "[520 620 750 860 760 830] \n",
      "\n",
      "[0 0 0 0 0 0] \n",
      "\n",
      "사과 520\n",
      "사과 620\n",
      "사과 750\n",
      "사과 860\n",
      "사과 760\n",
      "사과 830\n"
     ]
    }
   ],
   "source": [
    "\"\"\"출력값:\n",
    "[[520 620 750 860 760 830]\n",
    " [430 515 600 670 645 655]\n",
    " [380 510 630 610 550 580]]\n",
    " \n",
    "[520 620 750 860 760 830]\n",
    "\n",
    "[0 0 0 0 0 0] \n",
    "\"\"\"\n",
    "\n",
    "fruits = {0:\"사과\", 1:\"바나나\", 2:\"오렌지\"}\n",
    "\n",
    "# 1. 전체지점 월별 과일당 총 판매량\n",
    "sum_fruit_monthly = np.sum(sales_data, axis=0)\n",
    "print(sum_fruit_monthly, '\\n')\n",
    "\n",
    "# 2. 각 월 별 최고 판매량 \n",
    "max_sale_monthly = np.max(sum_fruit_monthly, axis = 0)\n",
    "print(max_sale_monthly, '\\n')\n",
    "\n",
    "# 3. 최고 판매된 과일 index\n",
    "#np.argsort(sum_fruit_monthly, axis=0)\n",
    "max_sales_fruit_idx = np.min(np.argsort(sum_fruit_monthly, axis=0), axis=0)\n",
    "print(max_sales_fruit_idx, '\\n')\n",
    "\n",
    "for i,idx in enumerate(max_sales_fruit_idx):\n",
    "    print(fruits[idx], max_sale_monthly[i])\n"
   ]
  },
  {
   "cell_type": "code",
   "execution_count": 13,
   "id": "e30c5bc4",
   "metadata": {},
   "outputs": [
    {
     "name": "stdout",
     "output_type": "stream",
     "text": [
      "[[520 620 750 860 760 830]\n",
      " [430 515 600 670 645 655]\n",
      " [380 510 630 610 550 580]] \n",
      "\n",
      "[520 620 750 860 760 830] \n",
      "\n",
      "사과\n",
      "사과\n",
      "사과\n",
      "사과\n",
      "사과\n",
      "사과\n"
     ]
    }
   ],
   "source": [
    "# 강사님 답\n",
    "monthy_total_sales = np.sum(sales_data, axis=0)\n",
    "print(monthy_total_sales, '\\n')\n",
    "\n",
    "monthly_max_sales = np.max(monthy_total_sales, axis=0)\n",
    "print(monthly_max_sales, '\\n')\n",
    "\n",
    "max_index = np.argmax(monthy_total_sales, axis=0)\n",
    "\n",
    "for idx in max_index:\n",
    "    print(['사과','바나나','오렌지'][idx])"
   ]
  },
  {
   "cell_type": "markdown",
   "id": "6d20f3e9",
   "metadata": {},
   "source": [
    "3. 6개월 동안 전체 지점에서 가장 많이 판매된 과일의 총량을 과일별로 구하세요. 어떤 과일이 가장 많이 판매되었는지 확인하세요."
   ]
  },
  {
   "cell_type": "code",
   "execution_count": 81,
   "id": "0b7b6d05",
   "metadata": {},
   "outputs": [
    {
     "name": "stdout",
     "output_type": "stream",
     "text": [
      "[4340 3515 3260]\n",
      "0\n"
     ]
    }
   ],
   "source": [
    "\"\"\"출력값:\n",
    "[4340 3515 3260]\n",
    "0                -> index로 출력되어도 되고 리스트를 만들어 이름으로 출력되도록 해도 됨 \n",
    "\"\"\"\n",
    "\n",
    "# 월별 각각 과일 판매량 (지점 다 합침)\n",
    "#print(np.sum(sales_data, axis=0))\n",
    "\n",
    "# 과일별 전체 판매 (지점 & 월 다 합침) \n",
    "print(np.sum(np.sum(sales_data, axis=0), axis=1))\n",
    "\n",
    "# 과일별 전체 판매 (지점 & 월 다 합침) 과일별 인덱스\n",
    "#print(np.argsort(np.sum(np.sum(sales_data, axis=0), axis=1)))\n",
    "\n",
    "# 제일 많이 팔린 과일 인덱스\n",
    "print(np.min(np.argsort(np.sum(np.sum(sales_data, axis=0), axis=1))))"
   ]
  },
  {
   "cell_type": "code",
   "execution_count": 20,
   "id": "ea6af82a",
   "metadata": {},
   "outputs": [
    {
     "name": "stdout",
     "output_type": "stream",
     "text": [
      "[4340 3515 3260] \n",
      "\n",
      "0\n",
      "사과\n"
     ]
    }
   ],
   "source": [
    "# 강사님 답\n",
    "total_sales_per_fruit = np.sum(sales_data, axis=(0,2))\n",
    "print(total_sales_per_fruit, '\\n')\n",
    "\n",
    "\n",
    "\n",
    "most_sold_fruit_idx = np.argmax(total_sales_per_fruit, axis=0)\n",
    "print(most_sold_fruit_idx)\n",
    "print(['사과','바나나','오렌지'][most_sold_fruit_idx])"
   ]
  },
  {
   "cell_type": "markdown",
   "id": "4f006870",
   "metadata": {},
   "source": [
    "4. 각 지점에서 판매량이 150개 이상인 (200 이상인듯?) 데이터를 추출하고 그에 해당하는 지점과 과일을 출력하세요."
   ]
  },
  {
   "cell_type": "code",
   "execution_count": 4,
   "id": "dc0f1afb",
   "metadata": {},
   "outputs": [
    {
     "name": "stdout",
     "output_type": "stream",
     "text": [
      "[150 200 230 180 210 170 190 160 180 160 150 160 180 170 190 150 160 150\n",
      " 170 160 180] \n",
      "\n",
      "(array([0, 0, 0, 0, 0, 0, 0, 0, 0, 0, 0, 2, 2, 2, 2, 2, 2, 3, 3, 3, 3]), array([0, 0, 0, 0, 0, 1, 1, 1, 1, 2, 2, 0, 0, 0, 0, 1, 1, 0, 0, 0, 0]), array([1, 2, 3, 4, 5, 2, 3, 4, 5, 2, 5, 2, 3, 4, 5, 3, 5, 2, 3, 4, 5]))\n",
      "\n",
      "지점 1 지점, 사과 과일, 2월\n",
      "0 0 2\n",
      "지점 1 지점, 사과 과일, 3월\n",
      "0 0 3\n",
      "지점 1 지점, 사과 과일, 4월\n",
      "0 0 4\n",
      "지점 1 지점, 사과 과일, 5월\n",
      "0 0 5\n",
      "지점 1 지점, 사과 과일, 6월\n",
      "0 0 6\n",
      "지점 1 지점, 바나나 과일, 3월\n",
      "0 1 3\n",
      "지점 1 지점, 바나나 과일, 4월\n",
      "0 1 4\n",
      "지점 1 지점, 바나나 과일, 5월\n",
      "0 1 5\n",
      "지점 1 지점, 바나나 과일, 6월\n",
      "0 1 6\n",
      "지점 1 지점, 오렌지 과일, 3월\n",
      "0 2 3\n",
      "지점 1 지점, 오렌지 과일, 6월\n",
      "0 2 6\n",
      "지점 3 지점, 사과 과일, 3월\n",
      "2 0 3\n",
      "지점 3 지점, 사과 과일, 4월\n",
      "2 0 4\n",
      "지점 3 지점, 사과 과일, 5월\n",
      "2 0 5\n",
      "지점 3 지점, 사과 과일, 6월\n",
      "2 0 6\n",
      "지점 3 지점, 바나나 과일, 4월\n",
      "2 1 4\n",
      "지점 3 지점, 바나나 과일, 6월\n",
      "2 1 6\n",
      "지점 4 지점, 사과 과일, 3월\n",
      "3 0 3\n",
      "지점 4 지점, 사과 과일, 4월\n",
      "3 0 4\n",
      "지점 4 지점, 사과 과일, 5월\n",
      "3 0 5\n",
      "지점 4 지점, 사과 과일, 6월\n",
      "3 0 6\n"
     ]
    }
   ],
   "source": [
    "\"\"\" 출력값\n",
    "[150 200 230 180 210 170 190 160 180 160 150 160 180 170 190 150 160 150\n",
    " 170 160 180]\n",
    "(array([0, 0, 0, 0, 0, 0, 0, 0, 0, 0, 0, 2, 2, 2, 2, 2, 2, 3, 3, 3, 3],\n",
    "      dtype=int64), array([0, 0, 0, 0, 0, 1, 1, 1, 1, 2, 2, 0, 0, 0, 0, 1, 1, 0, 0, 0, 0],\n",
    "      dtype=int64), array([1, 2, 3, 4, 5, 2, 3, 4, 5, 2, 5, 2, 3, 4, 5, 3, 5, 2, 3, 4, 5],\n",
    "      dtype=int64))\n",
    "1 지점, 사과 과일, 2월\n",
    "1 지점, 사과 과일, 3월\n",
    "1 지점, 사과 과일, 4월\n",
    "1 지점, 사과 과일, 5월\n",
    "1 지점, 사과 과일, 6월\n",
    "1 지점, 바나나 과일, 3월\n",
    "1 지점, 바나나 과일, 4월\n",
    "1 지점, 바나나 과일, 5월\n",
    "1 지점, 바나나 과일, 6월\n",
    "1 지점, 오렌지 과일, 3월\n",
    "1 지점, 오렌지 과일, 6월\n",
    "3 지점, 사과 과일, 3월\n",
    "3 지점, 사과 과일, 4월\n",
    "3 지점, 사과 과일, 5월\n",
    "3 지점, 사과 과일, 6월\n",
    "3 지점, 바나나 과일, 4월\n",
    "3 지점, 바나나 과일, 6월\n",
    "4 지점, 사과 과일, 3월\n",
    "4 지점, 사과 과일, 4월\n",
    "4 지점, 사과 과일, 5월\n",
    "4 지점, 사과 과일, 6월\n",
    "\"\"\"\n",
    "\n",
    "# 과일 이름\n",
    "fruit_names = np.array(['사과', '바나나', '오렌지'])\n",
    "branch_names = np.array(['지점 1', '지점 2', '지점 3', '지점 4', '지점 5'])\n",
    "month = {0: \"1월\", 1:\"2월\", 2:\"3월\", 3:\"4월\", 4:\"5월\", 5:\"6월\"}\n",
    "\n",
    "# 판매량 150 넘는 데이터\n",
    "print(sales_data[sales_data >= 150], '\\n')\n",
    "\n",
    "\n",
    "\n",
    "# 판매량 150 넘는 데이터 존재하는 (지점, 과일, 월)\n",
    "print(np.where(sales_data>=150))\n",
    "\n",
    "# 판매량 150 넘는 데이터 각각의 인덱스\n",
    "branches, fruits, months = np.where(sales_data>=150)\n",
    "\n",
    "print()\n",
    "for b, f, m in zip(branches, fruits, months):\n",
    "    print(f\"{branch_names[b]} 지점, {fruit_names[f]} 과일, {month[m]}\")\n",
    "    print(b,f,m+1)\n"
   ]
  },
  {
   "cell_type": "code",
   "execution_count": 31,
   "id": "327064c0",
   "metadata": {},
   "outputs": [
    {
     "name": "stdout",
     "output_type": "stream",
     "text": [
      "[150 200 230 180 210 170 190 160 180 160 150 160 180 170 190 150 160 150\n",
      " 170 160 180] \n",
      "\n",
      "[0 0 0 0 0 0 0 0 0 0 0 2 2 2 2 2 2 3 3 3 3]\n",
      "[0 0 0 0 0 1 1 1 1 2 2 0 0 0 0 1 1 0 0 0 0]\n",
      "[1 2 3 4 5 2 3 4 5 2 5 2 3 4 5 3 5 2 3 4 5]\n",
      "\n",
      "지점: 1, 과일: 사과, 월: 2\n",
      "지점: 1, 과일: 사과, 월: 3\n",
      "지점: 1, 과일: 사과, 월: 4\n",
      "지점: 1, 과일: 사과, 월: 5\n",
      "지점: 1, 과일: 사과, 월: 6\n",
      "지점: 1, 과일: 바나나, 월: 3\n",
      "지점: 1, 과일: 바나나, 월: 4\n",
      "지점: 1, 과일: 바나나, 월: 5\n",
      "지점: 1, 과일: 바나나, 월: 6\n",
      "지점: 1, 과일: 오렌지, 월: 3\n",
      "지점: 1, 과일: 오렌지, 월: 6\n",
      "지점: 3, 과일: 사과, 월: 3\n",
      "지점: 3, 과일: 사과, 월: 4\n",
      "지점: 3, 과일: 사과, 월: 5\n",
      "지점: 3, 과일: 사과, 월: 6\n",
      "지점: 3, 과일: 바나나, 월: 4\n",
      "지점: 3, 과일: 바나나, 월: 6\n",
      "지점: 4, 과일: 사과, 월: 3\n",
      "지점: 4, 과일: 사과, 월: 4\n",
      "지점: 4, 과일: 사과, 월: 5\n",
      "지점: 4, 과일: 사과, 월: 6\n"
     ]
    }
   ],
   "source": [
    "# 강사님 답\n",
    "required_sales_data = sales_data[sales_data>=150]\n",
    "print(required_sales_data, '\\n')\n",
    "\n",
    "#branches, fruits, months = np.where(sales_data>=150) # 각각에 담어주기\n",
    "over_150_data_indices = np.where(sales_data >= 150)\n",
    "print(over_150_data_indices[0]) # 지점\n",
    "print(over_150_data_indices[1]) # 과일\n",
    "print(over_150_data_indices[2]) # 월\n",
    "\n",
    "print()\n",
    "\n",
    "for i in range(len(over_150_data_indices[0])):\n",
    "    spot = over_150_data_indices[0][i] + 1\n",
    "    fruit_idx = over_150_data_indices[1][i]\n",
    "    fruit = ['사과', '바나나', '오렌지'][fruit_idx]\n",
    "    month = over_150_data_indices[2][i] + 1\n",
    "    print(f\"지점: {spot}, 과일: {fruit}, 월: {month}\")\n",
    "\n"
   ]
  },
  {
   "cell_type": "code",
   "execution_count": null,
   "id": "9d9b8517",
   "metadata": {},
   "outputs": [
    {
     "name": "stdout",
     "output_type": "stream",
     "text": [
      "[[[False False  True  True  True  True]\n",
      "  [False False  True  True  True  True]\n",
      "  [False False  True False False False]]\n",
      "\n",
      " [[False False False False False False]\n",
      "  [False False False False False False]\n",
      "  [False False False False False False]]\n",
      "\n",
      " [[False False  True  True  True  True]\n",
      "  [False False False False False  True]\n",
      "  [False False False False False False]]\n",
      "\n",
      " [[False False False  True  True  True]\n",
      "  [False False False False False False]\n",
      "  [False False False False False False]]\n",
      "\n",
      " [[False False False False False False]\n",
      "  [False False False False False False]\n",
      "  [False False False False False False]]]\n"
     ]
    }
   ],
   "source": []
  }
 ],
 "metadata": {
  "kernelspec": {
   "display_name": "pystudy_env",
   "language": "python",
   "name": "python3"
  },
  "language_info": {
   "codemirror_mode": {
    "name": "ipython",
    "version": 3
   },
   "file_extension": ".py",
   "mimetype": "text/x-python",
   "name": "python",
   "nbconvert_exporter": "python",
   "pygments_lexer": "ipython3",
   "version": "3.12.11"
  }
 },
 "nbformat": 4,
 "nbformat_minor": 5
}
