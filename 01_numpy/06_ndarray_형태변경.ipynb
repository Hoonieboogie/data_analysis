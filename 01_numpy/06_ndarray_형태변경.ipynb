{
 "cells": [
  {
   "cell_type": "markdown",
   "id": "a2ff11b3",
   "metadata": {},
   "source": [
    "# ndarray 형태 변경"
   ]
  },
  {
   "cell_type": "code",
   "execution_count": 1,
   "id": "57b81da0",
   "metadata": {},
   "outputs": [],
   "source": [
    "import numpy as np"
   ]
  },
  {
   "cell_type": "markdown",
   "id": "34b649fb",
   "metadata": {},
   "source": [
    "## reshape()\n",
    "- 요소의 개수가 맞는 shape으로 변경 가능"
   ]
  },
  {
   "cell_type": "code",
   "execution_count": 2,
   "id": "9e42324c",
   "metadata": {},
   "outputs": [
    {
     "name": "stdout",
     "output_type": "stream",
     "text": [
      "1 (12,)\n"
     ]
    }
   ],
   "source": [
    "arr = np.arange(12)\n",
    "print(arr.ndim, arr.shape)"
   ]
  },
  {
   "cell_type": "code",
   "execution_count": 3,
   "id": "0df98bd5",
   "metadata": {},
   "outputs": [
    {
     "name": "stdout",
     "output_type": "stream",
     "text": [
      "3 (2, 2, 3)\n",
      "[[[ 0  1  2]\n",
      "  [ 3  4  5]]\n",
      "\n",
      " [[ 6  7  8]\n",
      "  [ 9 10 11]]]\n"
     ]
    }
   ],
   "source": [
    "arr = arr.reshape(3, 4)\n",
    "arr = arr.reshape(6, 2)\n",
    "# arr = arr.reshape(2,7) -> 요소 개수가 달라서 불가능\n",
    "arr = arr.reshape(2,2,3)\n",
    "print(arr.ndim, arr.shape)\n",
    "print(arr)"
   ]
  },
  {
   "cell_type": "code",
   "execution_count": 4,
   "id": "7e5927ac",
   "metadata": {},
   "outputs": [
    {
     "name": "stdout",
     "output_type": "stream",
     "text": [
      "[ 0  1  2  3  4  5  6  7  8  9 10 11]\n"
     ]
    }
   ],
   "source": [
    "# reshape(-1): 1차원으로 처리\n",
    "arr = arr.reshape(-1)\n",
    "print(arr)"
   ]
  },
  {
   "cell_type": "code",
   "execution_count": 5,
   "id": "ade2e995",
   "metadata": {},
   "outputs": [
    {
     "name": "stdout",
     "output_type": "stream",
     "text": [
      "[[ 0  1  2  3]\n",
      " [ 4  5  6  7]\n",
      " [ 8  9 10 11]]\n"
     ]
    }
   ],
   "source": [
    "# reshape(a,b) -> a or b 하나가 -1: -1인 축은 자동 계산됨\n",
    "arr = arr.reshape(4,-1)\n",
    "arr = arr.reshape(-1,4)\n",
    "print(arr)"
   ]
  },
  {
   "cell_type": "markdown",
   "id": "3f990004",
   "metadata": {},
   "source": [
    "### np.ravel()\n",
    "- 1차원 변환"
   ]
  },
  {
   "cell_type": "code",
   "execution_count": 6,
   "id": "e386416e",
   "metadata": {},
   "outputs": [
    {
     "name": "stdout",
     "output_type": "stream",
     "text": [
      "[ 0  1  2  3  4  5  6  7  8  9 10 11]\n"
     ]
    }
   ],
   "source": [
    "arr = np.ravel(arr)\n",
    "print(arr)"
   ]
  },
  {
   "cell_type": "markdown",
   "id": "19961ccc",
   "metadata": {},
   "source": [
    "### np.expand_dims()\n",
    "- 차원추가"
   ]
  },
  {
   "cell_type": "code",
   "execution_count": 7,
   "id": "979f1ab9",
   "metadata": {},
   "outputs": [
    {
     "name": "stdout",
     "output_type": "stream",
     "text": [
      "(10,) [0 1 2 3 4 5 6 7 8 9]\n",
      "[[0 1 2 3 4 5 6 7 8 9]]\n",
      "(1, 10)\n",
      "\n",
      "[[0]\n",
      " [1]\n",
      " [2]\n",
      " [3]\n",
      " [4]\n",
      " [5]\n",
      " [6]\n",
      " [7]\n",
      " [8]\n",
      " [9]]\n",
      "(10, 1) 2\n"
     ]
    }
   ],
   "source": [
    "arr_1d = np.arange(10)\n",
    "print(arr_1d.shape, arr_1d)\n",
    "\n",
    "#print(np.expand_dims(arr_1d)) 위치 인자 axis가 무조건 들어가야함\n",
    "print(np.expand_dims(arr_1d, axis = 0))\n",
    "print(np.expand_dims(arr_1d, axis = 0).shape)\n",
    "print()\n",
    "print(np.expand_dims(arr_1d, axis = 1))\n",
    "print(np.expand_dims(arr_1d, axis = 1).shape, np.expand_dims(arr_1d, axis = 1).ndim)"
   ]
  },
  {
   "cell_type": "code",
   "execution_count": 8,
   "id": "6ab13a32",
   "metadata": {},
   "outputs": [
    {
     "name": "stdout",
     "output_type": "stream",
     "text": [
      "(2, 2) \n",
      " [[1 2]\n",
      " [3 4]]\n",
      "\n",
      "[[[1 2]\n",
      "  [3 4]]]\n",
      "(1, 2, 2) 3\n",
      "\n",
      "[[[1 2]]\n",
      "\n",
      " [[3 4]]]\n",
      "(2, 1, 2) 3\n",
      "\n",
      "[[[1]\n",
      "  [2]]\n",
      "\n",
      " [[3]\n",
      "  [4]]]\n",
      "(2, 2, 1) 3\n"
     ]
    }
   ],
   "source": [
    "arr_2d = np.array([[1,2], [3,4]])\n",
    "print(arr_2d.shape, '\\n', arr_2d)\n",
    "\n",
    "print()\n",
    "print(np.expand_dims(arr_2d, axis = 0))\n",
    "print(np.expand_dims(arr_2d, axis = 0).shape, np.expand_dims(arr_2d, axis = 0).ndim)\n",
    "print()\n",
    "print(np.expand_dims(arr_2d, axis = 1))\n",
    "print(np.expand_dims(arr_2d, axis = 1).shape, np.expand_dims(arr_2d, axis = 1).ndim)\n",
    "print()\n",
    "print(np.expand_dims(arr_2d, axis = 2))\n",
    "print(np.expand_dims(arr_2d, axis = 2).shape, np.expand_dims(arr_2d, axis = 2).ndim)"
   ]
  },
  {
   "cell_type": "markdown",
   "id": "df150575",
   "metadata": {},
   "source": [
    "### np.squeeze()\n",
    "- 차원의 값(=해당 차원의 요소 개수)이 1일 때, 차원 제거"
   ]
  },
  {
   "cell_type": "code",
   "execution_count": 11,
   "id": "bfbc4e7e",
   "metadata": {},
   "outputs": [
    {
     "name": "stdout",
     "output_type": "stream",
     "text": [
      "(1, 2)\n",
      "(2,)\n"
     ]
    }
   ],
   "source": [
    "arr = np.array([[1,2]])\n",
    "print(arr.shape)\n",
    "\n",
    "arr2 = np.squeeze(arr)\n",
    "arr2 = np.squeeze(arr, axis=0)\n",
    "#arr2 = np.squeeze(arr, axis=1) # 이 축의 요소 개수는 2개 (column)이라서 불가\n",
    "\n",
    "print(arr2.shape)"
   ]
  }
 ],
 "metadata": {
  "kernelspec": {
   "display_name": "pystudy_env",
   "language": "python",
   "name": "python3"
  },
  "language_info": {
   "codemirror_mode": {
    "name": "ipython",
    "version": 3
   },
   "file_extension": ".py",
   "mimetype": "text/x-python",
   "name": "python",
   "nbconvert_exporter": "python",
   "pygments_lexer": "ipython3",
   "version": "3.12.11"
  }
 },
 "nbformat": 4,
 "nbformat_minor": 5
}
