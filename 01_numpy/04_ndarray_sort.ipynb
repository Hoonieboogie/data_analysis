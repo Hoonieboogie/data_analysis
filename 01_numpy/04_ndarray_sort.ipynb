{
 "cells": [
  {
   "cell_type": "markdown",
   "id": "fcf4a450",
   "metadata": {},
   "source": [
    "# ndarray 정렬"
   ]
  },
  {
   "cell_type": "code",
   "execution_count": 1,
   "id": "b7499772",
   "metadata": {},
   "outputs": [],
   "source": [
    "import numpy as np"
   ]
  },
  {
   "cell_type": "markdown",
   "id": "5e54f3c2",
   "metadata": {},
   "source": [
    "## 1D Array Sort"
   ]
  },
  {
   "cell_type": "code",
   "execution_count": 8,
   "id": "e07f5153",
   "metadata": {},
   "outputs": [
    {
     "data": {
      "text/plain": [
       "array([10,  1,  3,  1,  4,  9,  2,  7,  5,  5], dtype=int32)"
      ]
     },
     "execution_count": 8,
     "metadata": {},
     "output_type": "execute_result"
    }
   ],
   "source": [
    "arr = np.random.randint(1, 11, 10) # random 생성\n",
    "arr"
   ]
  },
  {
   "cell_type": "code",
   "execution_count": null,
   "id": "e852d657",
   "metadata": {},
   "outputs": [
    {
     "data": {
      "text/plain": [
       "array([ 1,  1,  2,  3,  4,  5,  5,  7,  9, 10], dtype=int32)"
      ]
     },
     "execution_count": 9,
     "metadata": {},
     "output_type": "execute_result"
    }
   ],
   "source": [
    "# np.sort(arr): 정렬된 ndarray를 '빈환'. \n",
    "# 원본 배열에 영향 X \n",
    "#  desc 설정 파라미터 없고, asc만 지원\n",
    "np.sort(arr) "
   ]
  },
  {
   "cell_type": "code",
   "execution_count": null,
   "id": "ffbde955",
   "metadata": {},
   "outputs": [
    {
     "name": "stdout",
     "output_type": "stream",
     "text": [
      "[10  1  3  1  4  9  2  7  5  5]\n"
     ]
    }
   ],
   "source": [
    "print(arr)\n"
   ]
  },
  {
   "cell_type": "code",
   "execution_count": 11,
   "id": "0781ea60",
   "metadata": {},
   "outputs": [
    {
     "data": {
      "text/plain": [
       "array([10,  9,  7,  5,  5,  4,  3,  2,  1,  1], dtype=int32)"
      ]
     },
     "execution_count": 11,
     "metadata": {},
     "output_type": "execute_result"
    }
   ],
   "source": [
    "# Descending order sort\n",
    "np.sort(arr)[::-1]"
   ]
  },
  {
   "cell_type": "markdown",
   "id": "a76908d1",
   "metadata": {},
   "source": [
    "# 2D Array Sort"
   ]
  },
  {
   "cell_type": "code",
   "execution_count": 13,
   "id": "4b60218a",
   "metadata": {},
   "outputs": [
    {
     "data": {
      "text/plain": [
       "array([[0, 4, 4, 6],\n",
       "       [5, 8, 9, 5],\n",
       "       [2, 4, 2, 8]], dtype=int32)"
      ]
     },
     "execution_count": 13,
     "metadata": {},
     "output_type": "execute_result"
    }
   ],
   "source": [
    "arr = np.random.randint(10, size=(3,4)) # 값 하나만 주면 end 값 => 0~9 안에서 랜덤\n",
    "arr"
   ]
  },
  {
   "cell_type": "code",
   "execution_count": null,
   "id": "56581283",
   "metadata": {},
   "outputs": [
    {
     "data": {
      "text/plain": [
       "array([[0, 4, 4, 6],\n",
       "       [5, 5, 8, 9],\n",
       "       [2, 2, 4, 8]], dtype=int32)"
      ]
     },
     "execution_count": 17,
     "metadata": {},
     "output_type": "execute_result"
    }
   ],
   "source": [
    "np.sort(arr) # default로 axis=1 -> column방향 정렬"
   ]
  },
  {
   "cell_type": "code",
   "execution_count": null,
   "id": "78c37aed",
   "metadata": {},
   "outputs": [
    {
     "name": "stdout",
     "output_type": "stream",
     "text": [
      "[[0 4 2 5]\n",
      " [2 4 4 6]\n",
      " [5 8 9 8]]\n",
      "[[0 4 4 6]\n",
      " [5 5 8 9]\n",
      " [2 2 4 8]]\n"
     ]
    }
   ],
   "source": [
    "print(np.sort(arr, axis=0)) # 행row 방향 정렬\n",
    "print(np.sort(arr, axis=1)) # 열col 방향 정렬"
   ]
  },
  {
   "cell_type": "code",
   "execution_count": null,
   "id": "6b085c5b",
   "metadata": {},
   "outputs": [
    {
     "name": "stdout",
     "output_type": "stream",
     "text": [
      "[0 2 2 4 4 4 5 5 6 8 8 9]\n",
      "(12,)\n"
     ]
    }
   ],
   "source": [
    "print(np.sort(arr, axis=None)) # axis=None -> 축 무시 (행/열 구분 없이 정렬)\n",
    "print(np.sort(arr, axis=None).shape) # (n,) -> 1D로 됨"
   ]
  },
  {
   "cell_type": "markdown",
   "id": "5dc8c704",
   "metadata": {},
   "source": [
    "### np.argsort()\n",
    "- 배열의 값을 정렬했을 때 각 값의 '원래 인덱스'를 반환\n",
    "- = 정렬할 때 어떤 순서로 값을 배치해야 하는지 알려주는 인덱스\n",
    "- = 배열의 값을 정리한 후, 정렬된 순서에 해당하는 인덱스를 반환"
   ]
  },
  {
   "cell_type": "code",
   "execution_count": 21,
   "id": "a5ba2cdc",
   "metadata": {},
   "outputs": [
    {
     "name": "stdout",
     "output_type": "stream",
     "text": [
      "[100 200 300 400]\n",
      "[0 2 3 1]\n"
     ]
    }
   ],
   "source": [
    "arr = np.array([100,400,200,300])\n",
    "print(np.sort(arr))\n",
    "print(np.argsort(arr))"
   ]
  },
  {
   "cell_type": "code",
   "execution_count": 30,
   "id": "9e273318",
   "metadata": {},
   "outputs": [
    {
     "name": "stdout",
     "output_type": "stream",
     "text": [
      "Sorted indices: [3 0 1 2]\n",
      "['지수' '제니' '로제' '리사']\n"
     ]
    }
   ],
   "source": [
    "# 자주 쓰는 경우 예시\n",
    "\n",
    "blackpink = np.array(['제니', '로제', '리사', '지수'])\n",
    "album_sales = np.array([900,870,780,1002])\n",
    "\n",
    "# Sort index\n",
    "desc_sorted_indices = np.argsort(album_sales)[::-1]\n",
    "\n",
    "print(\"Sorted indices:\", desc_sorted_indices)\n",
    "\n",
    "# Sort blackpink based on those indices => Fancy indexing\n",
    "print(blackpink[desc_sorted_indices] )"
   ]
  },
  {
   "cell_type": "code",
   "execution_count": null,
   "id": "0c83420d",
   "metadata": {},
   "outputs": [
    {
     "name": "stdout",
     "output_type": "stream",
     "text": [
      "[[1 2 0]\n",
      " [0 2 1]]\n",
      "[[1 2 0]\n",
      " [0 2 1]]\n",
      "[[1 0 0]\n",
      " [0 1 1]]\n"
     ]
    }
   ],
   "source": [
    "# 2차원 배열 np.argsort()\n",
    "\n",
    "arr = np.array([[2025, 7, 15], [14,41,30]])\n",
    "print(np.argsort(arr)) #  default axis=1\n",
    "print(np.argsort(arr, axis=1)) # column direction order\n",
    "print(np.argsort(arr, axis=0)) # row direction order"
   ]
  }
 ],
 "metadata": {
  "kernelspec": {
   "display_name": "pystudy_env",
   "language": "python",
   "name": "python3"
  },
  "language_info": {
   "codemirror_mode": {
    "name": "ipython",
    "version": 3
   },
   "file_extension": ".py",
   "mimetype": "text/x-python",
   "name": "python",
   "nbconvert_exporter": "python",
   "pygments_lexer": "ipython3",
   "version": "3.12.11"
  }
 },
 "nbformat": 4,
 "nbformat_minor": 5
}
