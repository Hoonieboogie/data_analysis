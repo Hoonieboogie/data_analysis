{
 "cells": [
  {
   "cell_type": "markdown",
   "id": "ff20ec62",
   "metadata": {},
   "source": [
    "# ndarray 연산"
   ]
  },
  {
   "cell_type": "code",
   "execution_count": 1,
   "id": "8fb75f5c",
   "metadata": {},
   "outputs": [],
   "source": [
    "import numpy as np"
   ]
  },
  {
   "cell_type": "markdown",
   "id": "dcac6589",
   "metadata": {},
   "source": [
    "## 기본 연산"
   ]
  },
  {
   "cell_type": "code",
   "execution_count": null,
   "id": "d1fbb44d",
   "metadata": {},
   "outputs": [
    {
     "name": "stdout",
     "output_type": "stream",
     "text": [
      "[[1 2 3]\n",
      " [4 5 6]\n",
      " [7 8 9]]\n",
      "[[7 7 7]\n",
      " [7 7 7]\n",
      " [7 7 7]]\n"
     ]
    }
   ],
   "source": [
    "# reshape(row_num, col_num) => !!!element 개수 맞게 해야함!!!\n",
    "arr_a = np.arange(1,10).reshape(3,3)\n",
    "arr_b = np.full_like(arr_a, 7) # full_like(array, value): array 모양 복제해서 value 다 거기 넣어줌\n",
    "\n",
    "print(arr_a)\n",
    "print(arr_b)"
   ]
  },
  {
   "cell_type": "code",
   "execution_count": null,
   "id": "967ff995",
   "metadata": {},
   "outputs": [
    {
     "name": "stdout",
     "output_type": "stream",
     "text": [
      "[[ 8  9 10]\n",
      " [11 12 13]\n",
      " [14 15 16]]\n",
      "[[ 8  9 10]\n",
      " [11 12 13]\n",
      " [14 15 16]]\n"
     ]
    }
   ],
   "source": [
    "# 덧셈\n",
    "print(arr_a + arr_b)\n",
    "\n",
    "print(np.add(arr_a, arr_b))"
   ]
  },
  {
   "cell_type": "code",
   "execution_count": null,
   "id": "86daa9e1",
   "metadata": {},
   "outputs": [
    {
     "name": "stdout",
     "output_type": "stream",
     "text": [
      "[[-6 -5 -4]\n",
      " [-3 -2 -1]\n",
      " [ 0  1  2]]\n",
      "[[-6 -5 -4]\n",
      " [-3 -2 -1]\n",
      " [ 0  1  2]]\n"
     ]
    }
   ],
   "source": [
    "# 뺄셈\n",
    "print(arr_a - arr_b)\n",
    "\n",
    "print(np.subtract(arr_a, arr_b))"
   ]
  },
  {
   "cell_type": "code",
   "execution_count": null,
   "id": "de2d2c28",
   "metadata": {},
   "outputs": [
    {
     "name": "stdout",
     "output_type": "stream",
     "text": [
      "[[ 7 14 21]\n",
      " [28 35 42]\n",
      " [49 56 63]]\n",
      "[[ 7 14 21]\n",
      " [28 35 42]\n",
      " [49 56 63]]\n"
     ]
    }
   ],
   "source": [
    "# 곱셈: 같은 위치에 있는 놈끼리 곱함\n",
    "print(arr_a * arr_b)\n",
    "\n",
    "print(np.multiply(arr_a, arr_b))"
   ]
  },
  {
   "cell_type": "code",
   "execution_count": null,
   "id": "8c3c7afc",
   "metadata": {},
   "outputs": [
    {
     "name": "stdout",
     "output_type": "stream",
     "text": [
      "[[0.14285714 0.28571429 0.42857143]\n",
      " [0.57142857 0.71428571 0.85714286]\n",
      " [1.         1.14285714 1.28571429]]\n",
      "[[0.14285714 0.28571429 0.42857143]\n",
      " [0.57142857 0.71428571 0.85714286]\n",
      " [1.         1.14285714 1.28571429]]\n"
     ]
    }
   ],
   "source": [
    "# 나눗셈\n",
    "print(arr_a / arr_b)\n",
    "\n",
    "print(np.divide(arr_a, arr_b))"
   ]
  },
  {
   "cell_type": "markdown",
   "id": "6a40446d",
   "metadata": {},
   "source": [
    "## 특수연산"
   ]
  },
  {
   "cell_type": "code",
   "execution_count": null,
   "id": "1a235e88",
   "metadata": {},
   "outputs": [
    {
     "name": "stdout",
     "output_type": "stream",
     "text": [
      "[[0 0 0]\n",
      " [0 0 0]\n",
      " [1 1 1]]\n",
      "[[0 0 0]\n",
      " [0 0 0]\n",
      " [1 1 1]]\n"
     ]
    }
   ],
   "source": [
    "# 1. quotient 몫 연산\n",
    "print(arr_a // arr_b)\n",
    "\n",
    "print(np.floor_divide(arr_a, arr_b))"
   ]
  },
  {
   "cell_type": "code",
   "execution_count": null,
   "id": "3fa42701",
   "metadata": {},
   "outputs": [
    {
     "name": "stdout",
     "output_type": "stream",
     "text": [
      "[[1 2 3]\n",
      " [4 5 6]\n",
      " [0 1 2]]\n",
      "[[1 2 3]\n",
      " [4 5 6]\n",
      " [0 1 2]]\n"
     ]
    }
   ],
   "source": [
    "# 2. modulo\n",
    "print(arr_a % arr_b)\n",
    "\n",
    "print(np.mod(arr_a, arr_b))"
   ]
  },
  {
   "cell_type": "code",
   "execution_count": 29,
   "id": "b297889b",
   "metadata": {},
   "outputs": [
    {
     "name": "stdout",
     "output_type": "stream",
     "text": [
      "[[      1     128    2187]\n",
      " [  16384   78125  279936]\n",
      " [ 823543 2097152 4782969]]\n",
      "[[      1     128    2187]\n",
      " [  16384   78125  279936]\n",
      " [ 823543 2097152 4782969]]\n",
      "[[ 1  4  9]\n",
      " [16 25 36]\n",
      " [49 64 81]]\n",
      "[[1.         1.41421356 1.73205081]\n",
      " [2.         2.23606798 2.44948974]\n",
      " [2.64575131 2.82842712 3.        ]]\n"
     ]
    }
   ],
   "source": [
    "# 3. square\n",
    "print(arr_a ** arr_b)\n",
    "\n",
    "print(np.power(arr_a, arr_b))\n",
    "\n",
    "print(np.square(arr_a)) # 하나의 matrix에 대해서 제곱하는 것\n",
    "print(np.sqrt(arr_a)) # 하나의 matrix에 대해서 square root 구하기"
   ]
  },
  {
   "cell_type": "markdown",
   "id": "82f01b76",
   "metadata": {},
   "source": [
    "---"
   ]
  },
  {
   "cell_type": "markdown",
   "id": "c30e249b",
   "metadata": {},
   "source": [
    "## broadcasting 연산\n",
    "- 두 배열의 shape이 다르면 broadcasting 연산을 수행한다\n",
    "- shape이 작은 쪽이 큰 쪽에 맞춰 확장한다\n",
    "- 두 배열의 차원의 크기가 같거나, 하나가 1이면 브로드캐스팅 가능\n",
    "- 그리고 크기가 1인 차원은 상대 배열의 해당 차원 크기와 다를 경우 자동으로 확장 가능하다\n",
    "- shape이 다른 경우 마지막 축부터 차원이 동일한지 비교한다"
   ]
  },
  {
   "cell_type": "code",
   "execution_count": 39,
   "id": "47bddf76",
   "metadata": {},
   "outputs": [
    {
     "name": "stdout",
     "output_type": "stream",
     "text": [
      "[[ 5 10 15]\n",
      " [20 25 30]\n",
      " [35 40 45]]\n"
     ]
    }
   ],
   "source": [
    "result_arr = arr_a * np.array([[5,5,5],[5,5,5], [5,5,6]]) # (3,3)\n",
    "result_arr = arr_a * np.array([5,5,5]) # (3,)\n",
    "result_arr = arr_a * np.array([5]) # (1,)\n",
    "result_arr = arr_a * np.array(5) # scalar \n",
    "\n",
    "print(result_arr)"
   ]
  },
  {
   "cell_type": "code",
   "execution_count": null,
   "id": "0389bd17",
   "metadata": {},
   "outputs": [
    {
     "data": {
      "text/plain": [
       "array([[  6,  12, 103],\n",
       "       [  9,  15, 106]])"
      ]
     },
     "execution_count": 40,
     "metadata": {},
     "output_type": "execute_result"
    }
   ],
   "source": [
    "arr1 = np.array([[1,2,3],[4,5,6]]) # (2,3)\n",
    "arr2 = np.array([5,10,100]) # (3,)\n",
    " \n",
    "arr1 + arr2"
   ]
  },
  {
   "cell_type": "code",
   "execution_count": 41,
   "id": "c484e62a",
   "metadata": {},
   "outputs": [
    {
     "data": {
      "text/plain": [
       "array([[101, 102, 103],\n",
       "       [204, 205, 206]])"
      ]
     },
     "execution_count": 41,
     "metadata": {},
     "output_type": "execute_result"
    }
   ],
   "source": [
    "arr1 = np.array([[1,2,3],[4,5,6]]) # (2,3)\n",
    "arr2 = np.array([[100],[200]]) # (2,1)\n",
    "\n",
    "arr1 + arr2"
   ]
  },
  {
   "cell_type": "code",
   "execution_count": 43,
   "id": "4a038548",
   "metadata": {},
   "outputs": [
    {
     "data": {
      "text/plain": [
       "array([[5, 6, 7],\n",
       "       [6, 7, 8],\n",
       "       [7, 8, 9]])"
      ]
     },
     "execution_count": 43,
     "metadata": {},
     "output_type": "execute_result"
    }
   ],
   "source": [
    "arr1 = np.array([1,2,3]) # (3,) => 차원 맞추면서 (1,3)\n",
    "arr2 = np.array([[4],[5],[6]]) # (3,1)\n",
    "\n",
    "arr1 + arr2 # (3,3)"
   ]
  },
  {
   "cell_type": "code",
   "execution_count": 45,
   "id": "30b039d6",
   "metadata": {},
   "outputs": [
    {
     "ename": "ValueError",
     "evalue": "operands could not be broadcast together with shapes (2,3) (2,) ",
     "output_type": "error",
     "traceback": [
      "\u001b[31m---------------------------------------------------------------------------\u001b[39m",
      "\u001b[31mValueError\u001b[39m                                Traceback (most recent call last)",
      "\u001b[36mCell\u001b[39m\u001b[36m \u001b[39m\u001b[32mIn[45]\u001b[39m\u001b[32m, line 4\u001b[39m\n\u001b[32m      1\u001b[39m arr1 = np.array([[\u001b[32m1\u001b[39m,\u001b[32m2\u001b[39m,\u001b[32m3\u001b[39m],[\u001b[32m4\u001b[39m,\u001b[32m5\u001b[39m,\u001b[32m6\u001b[39m]]) \u001b[38;5;66;03m# (2,3)\u001b[39;00m\n\u001b[32m      2\u001b[39m arr2 = np.array([\u001b[32m1\u001b[39m,\u001b[32m2\u001b[39m]) \u001b[38;5;66;03m# (2,) -> (1,2) \u001b[39;00m\n\u001b[32m----> \u001b[39m\u001b[32m4\u001b[39m \u001b[43marr1\u001b[49m\u001b[43m \u001b[49m\u001b[43m+\u001b[49m\u001b[43m \u001b[49m\u001b[43marr2\u001b[49m  \u001b[38;5;66;03m# 무엇을 늘릴지 모를 때는 이렇게 error => ValueError\u001b[39;00m\n",
      "\u001b[31mValueError\u001b[39m: operands could not be broadcast together with shapes (2,3) (2,) "
     ]
    }
   ],
   "source": [
    "arr1 = np.array([[1,2,3],[4,5,6]]) # (2,3)\n",
    "arr2 = np.array([1,2]) # (2,) -> (1,2) \n",
    "\n",
    "arr1 + arr2  # 무엇을 늘릴지 모를 때는 이렇게 error => ValueError"
   ]
  },
  {
   "cell_type": "markdown",
   "id": "562bc246",
   "metadata": {},
   "source": [
    "---"
   ]
  },
  {
   "cell_type": "markdown",
   "id": "da879a78",
   "metadata": {},
   "source": [
    "# 행렬 곱셈 (Matrix Multiplication)\n",
    "- Dot Product (내적/ 점곱연산)\n",
    "    - 두 행렬 A,B의 내적은 첫 번째 행렬 A의 행과 두 번째 행렬 B의 열 간의 곱셈을 수행한다\n",
    "    - 첫 번째 행렬 A의 열의 수와 두 번째 행렬 B의 행의 수가 같아야 함\n",
    "    - 연산 결과의 shape은 (A의 행 개수, B의 열 개수) 이다."
   ]
  },
  {
   "cell_type": "code",
   "execution_count": null,
   "id": "d78f53f9",
   "metadata": {},
   "outputs": [
    {
     "name": "stdout",
     "output_type": "stream",
     "text": [
      "[[1 2]\n",
      " [3 4]]\n",
      "[[5 6]\n",
      " [7 8]]\n",
      "\n",
      "[[19 22]\n",
      " [43 50]]\n",
      "(2, 2)\n"
     ]
    }
   ],
   "source": [
    "arr1  = np.array([[1,2], [3,4]])\n",
    "arr2 = np.array([[5,6], [7,8]])\n",
    "\n",
    "print(arr1)\n",
    "print(arr2)\n",
    "print()\n",
    "print(np.dot(arr1,arr2))\n",
    "print(np.dot(arr1,arr2).shape) # (2,2)"
   ]
  },
  {
   "cell_type": "code",
   "execution_count": null,
   "id": "cebda253",
   "metadata": {},
   "outputs": [
    {
     "name": "stdout",
     "output_type": "stream",
     "text": [
      "[[ 58  64]\n",
      " [139 154]]\n",
      "[[ 58  64]\n",
      " [139 154]]\n"
     ]
    }
   ],
   "source": [
    "arr3 = np.array([[1,2,3],[4,5,6]]) # (2,3)\n",
    "arr4 = np.array([[7,8],[9,10],[11,12]]) # (3,2)\n",
    "\n",
    "print(np.dot(arr3, arr4)) # (2,2)\n",
    "\n",
    "# 2*2 matrix에서는 @ 기호로도 dot product 가능 => 사실 dot product 아니고 매트릭스 곱셈인 np.matnul()을 하는 것\n",
    "print(arr3 @ arr4)"
   ]
  },
  {
   "cell_type": "code",
   "execution_count": null,
   "id": "9a085236",
   "metadata": {},
   "outputs": [
    {
     "name": "stdout",
     "output_type": "stream",
     "text": [
      "[[1 4]\n",
      " [2 5]\n",
      " [3 6]] \n",
      "\n",
      "[[14 32]\n",
      " [32 77]]\n"
     ]
    }
   ],
   "source": [
    "## Transpose 해주기 (전치행렬)\n",
    "# arr3 @ arr3은 안 됨. Why? shape가 (2,3) @ (2,3) 이니까 => 전치(transponse) 해줌\n",
    "\n",
    "print(arr3.T, \"\\n\")\n",
    "print(arr3 @ arr3.T) # (2,3) @ (3,2)\n",
    "\n",
    "# matnul로 해보기\n",
    "print(np.matmul(arr3, arr3.T))"
   ]
  },
  {
   "cell_type": "markdown",
   "id": "8a9da7f6",
   "metadata": {},
   "source": [
    "### 연산 함수 및 집계 함수"
   ]
  },
  {
   "cell_type": "code",
   "execution_count": 63,
   "id": "8f218c4f",
   "metadata": {},
   "outputs": [],
   "source": [
    "arr_negative = np.array([[-1, -2], [-100, -200]])\n",
    "arr_float = np.array([[1.234, -5.678], [-7.89, 10.123]])\n",
    "arr = np.arange(1, 7).reshape(2, 3)"
   ]
  },
  {
   "cell_type": "code",
   "execution_count": 65,
   "id": "fb965e9c",
   "metadata": {},
   "outputs": [
    {
     "name": "stdout",
     "output_type": "stream",
     "text": [
      "[[ 2. -5.]\n",
      " [-7. 11.]]\n",
      "[[ 1. -6.]\n",
      " [-8. 10.]]\n",
      "[[ 1. -6.]\n",
      " [-8. 10.]]\n",
      "[[ 1. -5.]\n",
      " [-7. 10.]]\n"
     ]
    }
   ],
   "source": [
    "# 올림 (현재 숫자보다 최소 정수 반환)\n",
    "print(np.ceil(arr_float))\n",
    "# 반올림\n",
    "print(np.round(arr_float))\n",
    "# 내림 (현재 숫자보다 작은 최대 정수 반환)\n",
    "print(np.floor(arr_float))\n",
    "# 버림 \n",
    "print(np.trunc(arr_float))"
   ]
  },
  {
   "cell_type": "code",
   "execution_count": 66,
   "id": "6dcec4c9",
   "metadata": {},
   "outputs": [
    {
     "name": "stdout",
     "output_type": "stream",
     "text": [
      "[[  1   2]\n",
      " [100 200]]\n"
     ]
    }
   ],
   "source": [
    "# 절댓값\n",
    "print(np.abs(arr_negative))"
   ]
  },
  {
   "cell_type": "code",
   "execution_count": 79,
   "id": "8717fdb0",
   "metadata": {},
   "outputs": [
    {
     "name": "stdout",
     "output_type": "stream",
     "text": [
      "6\n",
      "1\n",
      "[4 5 6]\n",
      "[1 4]\n"
     ]
    }
   ],
   "source": [
    "# 최대/최소값\n",
    "arr = np.arange(1, 7).reshape(2, 3)\n",
    "\n",
    "print(np.max(arr)) # MAX VALUE => np.max()\n",
    "print(np.min(arr)) # MIN VALUE => np.min()\n",
    "\n",
    "print(np.max(arr, axis =0))  # (2,3) shape에서 2 (2차원에서는 행 기준) => 가장 큰 값 가진 행 뽑음\n",
    "print(np.min(arr, axis =1))  # (2,3) shape에서 3 (2차원에서는 열 기준) => 가장 큰 값 가진 열 뽑음"
   ]
  },
  {
   "cell_type": "code",
   "execution_count": null,
   "id": "b57515a1",
   "metadata": {},
   "outputs": [
    {
     "name": "stdout",
     "output_type": "stream",
     "text": [
      "21\n",
      "[5 7 9]\n",
      "[ 6 15]\n"
     ]
    }
   ],
   "source": [
    "# 합계\n",
    "print(np.sum(arr))\n",
    " \n",
    "print(arr.sum(axis=0)) # 행 방향으로 (밑으로) 더함.               \n",
    "print(arr.sum(axis=1)) # 열 방향으로 (옆으로) 더함                   "
   ]
  },
  {
   "cell_type": "code",
   "execution_count": null,
   "id": "d9adbce5",
   "metadata": {},
   "outputs": [
    {
     "name": "stdout",
     "output_type": "stream",
     "text": [
      "3.5\n",
      "3.5\n"
     ]
    }
   ],
   "source": [
    "# 평균\n",
    "print(np.mean(arr))\n",
    "print(arr.mean())\n",
    "\n",
    "print(arr.mean(axis=0)) # 행 방향으로 \n",
    "print(arr.mean(axis=1))"
   ]
  },
  {
   "cell_type": "code",
   "execution_count": null,
   "id": "e1a249ca",
   "metadata": {},
   "outputs": [],
   "source": [
    "m"
   ]
  }
 ],
 "metadata": {
  "kernelspec": {
   "display_name": "pystudy_env",
   "language": "python",
   "name": "python3"
  },
  "language_info": {
   "codemirror_mode": {
    "name": "ipython",
    "version": 3
   },
   "file_extension": ".py",
   "mimetype": "text/x-python",
   "name": "python",
   "nbconvert_exporter": "python",
   "pygments_lexer": "ipython3",
   "version": "3.12.11"
  }
 },
 "nbformat": 4,
 "nbformat_minor": 5
}
