{
 "cells": [
  {
   "cell_type": "markdown",
   "id": "2adaa113",
   "metadata": {},
   "source": [
    "# Data Science\n",
    "- 방대한 양의 데이터를 수집, 분석, 시각화 처리하여 유의미한 정보를 추출하는 것\n",
    "- Python package: numpy, pandas, matplotlib, seaborn 등이 주로 사용됨"
   ]
  },
  {
   "cell_type": "markdown",
   "id": "2f856b8c",
   "metadata": {},
   "source": [
    "---"
   ]
  },
  {
   "cell_type": "markdown",
   "id": "128b989e",
   "metadata": {},
   "source": [
    "# numpy\n",
    "- 대규모 다차원 배열, 수치 연산을 지원하는 라이브러리"
   ]
  },
  {
   "cell_type": "markdown",
   "id": "b15df4f9",
   "metadata": {},
   "source": [
    "### 설치코드\n",
    "```python\n",
    "pip install numpy\n",
    "```\n",
    "### 주피터에서\n",
    "```python\n",
    "!pip install numpy\n",
    "```"
   ]
  },
  {
   "cell_type": "markdown",
   "id": "4e2d2911",
   "metadata": {},
   "source": [
    "---"
   ]
  },
  {
   "cell_type": "markdown",
   "id": "e911e5b1",
   "metadata": {},
   "source": [
    "### ndarray 다차원 배열 생성"
   ]
  },
  {
   "cell_type": "code",
   "execution_count": 2,
   "id": "549d0bcd",
   "metadata": {},
   "outputs": [],
   "source": [
    "import numpy as np"
   ]
  },
  {
   "cell_type": "code",
   "execution_count": 12,
   "id": "668d5b36",
   "metadata": {},
   "outputs": [
    {
     "name": "stdout",
     "output_type": "stream",
     "text": [
      "list: [1, 2, 3, 4, 5]\n",
      "ndarray: [1 2 3 4 5]\n",
      "5\n",
      "(5,)\n",
      "Comparison: <class 'list'> <class 'numpy.ndarray'>\n"
     ]
    }
   ],
   "source": [
    "list1 = [1,2,3,4,5]\n",
    "array1 = np.array([1,2,3,4,5])\n",
    "\n",
    "print(\"list:\", list1)\n",
    "print(\"ndarray:\", array1)\n",
    "print(array1.size)\n",
    "print(array1.shape)\n",
    "print(\"Comparison:\", type(list1), type(array1))"
   ]
  },
  {
   "cell_type": "code",
   "execution_count": null,
   "id": "11a33fba",
   "metadata": {},
   "outputs": [
    {
     "name": "stdout",
     "output_type": "stream",
     "text": [
      "[1 2 3 4 5] <class 'numpy.ndarray'>\n"
     ]
    }
   ],
   "source": [
    "# 즉 array()는 SEQUENCE를 array로 바꿔주는 역할을 함\n",
    "arr = np.array((1,2,3,4,5))\n",
    "print(arr,type(arr))"
   ]
  },
  {
   "cell_type": "code",
   "execution_count": null,
   "id": "081a152d",
   "metadata": {},
   "outputs": [
    {
     "name": "stdout",
     "output_type": "stream",
     "text": [
      "[[1 2 3]\n",
      " [4 5 6]\n",
      " [7 8 9]] \n",
      "\n",
      "Size: 9\n",
      "Num of Dimensions: 2\n",
      "Shape: (3, 3)\n",
      "int64\n"
     ]
    }
   ],
   "source": [
    "array2 = np.array([[1,2,3],[4,5,6],[7,8,9]])\n",
    "\n",
    "print(array2, '\\n')                         \n",
    "print(\"Size:\", array2.size)                 # 요소 개수\n",
    "print(\"Num of Dimensions:\", array2.ndim)    # 깊이 (몇차원인지)\n",
    "print(\"Shape:\", array2.shape)               # 형태 \n",
    "print(array2.dtype)                         # 요소의 자료형"
   ]
  },
  {
   "cell_type": "code",
   "execution_count": 11,
   "id": "d0a30070",
   "metadata": {},
   "outputs": [
    {
     "name": "stdout",
     "output_type": "stream",
     "text": [
      "int64\n",
      "float64\n",
      "bool\n",
      "<U9\n"
     ]
    }
   ],
   "source": [
    "arr_int = np.array([2025,7,14])\n",
    "print(arr_int.dtype)\n",
    "\n",
    "arr_float = np.array([1.234, 3.14, 9.55])\n",
    "print(arr_float.dtype)\n",
    "\n",
    "arr_bool = np.array([True, False, False, True])\n",
    "print(arr_bool.dtype)\n",
    "\n",
    "arr_str = np.array(['Hello', 'World', 'python', 'numpy-lib'])\n",
    "print(arr_str.dtype) # <U9: 유니코드 9글자까지 저장 가능한 문자열 (제일 긴 놈 기준으로 바뀜)"
   ]
  },
  {
   "cell_type": "code",
   "execution_count": 19,
   "id": "ef04eb7a",
   "metadata": {},
   "outputs": [
    {
     "name": "stdout",
     "output_type": "stream",
     "text": [
      "float64\n",
      "[ 1.234  3.14   9.55  10.   ] float64\n",
      "[ 1  3  9 10] int64\n",
      "[ 1  3  9 10] int64\n"
     ]
    }
   ],
   "source": [
    "arr_1 = np.array([1.234, 3.14, 9.55, 10]) # 암묵적 형변환\n",
    "print(arr_1.dtype)\n",
    "\n",
    "arr_2 = np.array([1.234, 3.14, 9.55, 10], dtype=float) \n",
    "print(arr_2, arr_2.dtype)\n",
    "\n",
    "arr_3 = np.array([1.234, 3.14, 9.55, 10], dtype=int) # type casting method 1\n",
    "print(arr_3, arr_3.dtype)\n",
    "\n",
    "arr_4 =  np.array([1.234, 3.14, 9.55, 10])\n",
    "arr_4 = arr_4.astype(int) # type casting method 2\n",
    "print(arr_4, arr_4.dtype)\n"
   ]
  },
  {
   "cell_type": "markdown",
   "id": "c92c97f4",
   "metadata": {},
   "source": [
    "### python list V.S. ndarray\n",
    "- ndarray는 동일한 자료형만 저장 가능\n",
    "- ndarray는 다차원인 경우, 충접 배열은 동일한 크기만 허용\n",
    "- 형태/길이 확인법\n",
    "    - python list: len()\n",
    "    - ndarray: ndarray.shape, ndarray.dim, ndarray.size "
   ]
  },
  {
   "cell_type": "code",
   "execution_count": 21,
   "id": "4023bb9c",
   "metadata": {},
   "outputs": [
    {
     "name": "stdout",
     "output_type": "stream",
     "text": [
      "[2025, 7, 14, 'numpy', True]\n",
      "[[1, 2, 3], [4, 5], [6]]\n",
      "5\n",
      "3\n"
     ]
    }
   ],
   "source": [
    "my_list = [2025, 7, 14, 'numpy', True]\n",
    "print(my_list)\n",
    "\n",
    "my_list2 = [[1,2,3], [4,5],[6]]\n",
    "print(my_list2)\n",
    "\n",
    "print(len(my_list))\n",
    "print(len(my_list2[0]))"
   ]
  },
  {
   "cell_type": "code",
   "execution_count": null,
   "id": "ecf8cefd",
   "metadata": {},
   "outputs": [
    {
     "name": "stdout",
     "output_type": "stream",
     "text": [
      "['2025' '7' '14' 'numpy' 'True']\n",
      "5\n",
      "(5,)\n",
      "1\n",
      "<U21\n"
     ]
    }
   ],
   "source": [
    "arr_test = np.array([2025, 7, 14, 'numpy', True])\n",
    "\n",
    "print(arr_test)\n",
    "print(arr_test.size)\n",
    "print(arr_test.shape)\n",
    "print(arr_test.ndim)\n",
    "print(arr_test.dtype) # <U21 => 싹 다 string으로 들어가는 것"
   ]
  },
  {
   "cell_type": "code",
   "execution_count": null,
   "id": "cf77a124",
   "metadata": {},
   "outputs": [
    {
     "ename": "ValueError",
     "evalue": "setting an array element with a sequence. The requested array has an inhomogeneous shape after 1 dimensions. The detected shape was (3,) + inhomogeneous part.",
     "output_type": "error",
     "traceback": [
      "\u001b[31m---------------------------------------------------------------------------\u001b[39m",
      "\u001b[31mValueError\u001b[39m                                Traceback (most recent call last)",
      "\u001b[36mCell\u001b[39m\u001b[36m \u001b[39m\u001b[32mIn[29]\u001b[39m\u001b[32m, line 1\u001b[39m\n\u001b[32m----> \u001b[39m\u001b[32m1\u001b[39m arr_test2 = \u001b[43mnp\u001b[49m\u001b[43m.\u001b[49m\u001b[43marray\u001b[49m\u001b[43m(\u001b[49m\u001b[43m[\u001b[49m\u001b[43m[\u001b[49m\u001b[32;43m1\u001b[39;49m\u001b[43m,\u001b[49m\u001b[32;43m2\u001b[39;49m\u001b[43m,\u001b[49m\u001b[32;43m3\u001b[39;49m\u001b[43m]\u001b[49m\u001b[43m,\u001b[49m\u001b[43m \u001b[49m\u001b[43m[\u001b[49m\u001b[32;43m4\u001b[39;49m\u001b[43m,\u001b[49m\u001b[32;43m5\u001b[39;49m\u001b[43m]\u001b[49m\u001b[43m,\u001b[49m\u001b[43m[\u001b[49m\u001b[32;43m6\u001b[39;49m\u001b[43m]\u001b[49m\u001b[43m]\u001b[49m\u001b[43m)\u001b[49m \u001b[38;5;66;03m# 이거는 안되쥬\u001b[39;00m\n\u001b[32m      3\u001b[39m \u001b[38;5;28mprint\u001b[39m(arr_test2)\n\u001b[32m      4\u001b[39m \u001b[38;5;28mprint\u001b[39m(arr_test.size2)\n",
      "\u001b[31mValueError\u001b[39m: setting an array element with a sequence. The requested array has an inhomogeneous shape after 1 dimensions. The detected shape was (3,) + inhomogeneous part."
     ]
    }
   ],
   "source": [
    "arr_test2 = np.array([[1,2,3], [4,5],[6]]) # 이거는 안되쥬 -> 왜? 중첩구조에서는 크기가 같아야 하니까\n",
    " \n",
    "print(arr_test2)\n",
    "print(arr_test.size2)\n",
    "print(arr_test.shape2)\n",
    "print(arr_test.ndim2)\n",
    "print(arr_test.dtype2) "
   ]
  },
  {
   "cell_type": "markdown",
   "id": "4cf8bbad",
   "metadata": {},
   "source": [
    "# 특정 수로 초기화된 ndarray 생성"
   ]
  },
  {
   "cell_type": "code",
   "execution_count": 41,
   "id": "daf69315",
   "metadata": {},
   "outputs": [
    {
     "name": "stdout",
     "output_type": "stream",
     "text": [
      "[[0. 0. 0.]\n",
      " [0. 0. 0.]\n",
      " [0. 0. 0.]] \n",
      "\n",
      "[[1 1 1 1 1]\n",
      " [1 1 1 1 1]\n",
      " [1 1 1 1 1]] \n",
      "\n",
      "[[9. 9.]\n",
      " [9. 9.]\n",
      " [9. 9.]\n",
      " [9. 9.]] \n",
      "\n",
      "[7 7 7]\n"
     ]
    }
   ],
   "source": [
    "# zeros\n",
    "arr_zeros = np.zeros((3,3)) # tuple은 shape\n",
    "print(arr_zeros, '\\n')\n",
    "\n",
    "# ones\n",
    "arr_ones = np.ones((3,5), dtype=int)\n",
    "print(arr_ones, '\\n')\n",
    "\n",
    "# full\n",
    "arr_full = np.full((4,2), 9.0)\n",
    "print(arr_full, '\\n')\n",
    "arr_full = np.full((3,), 7) # 명시적으로 comma \n",
    "print(arr_full)"
   ]
  },
  {
   "cell_type": "code",
   "execution_count": null,
   "id": "20e06e14",
   "metadata": {},
   "outputs": [
    {
     "name": "stdout",
     "output_type": "stream",
     "text": [
      "Shape: (2, 2) \n",
      "\n",
      "[[0. 0.]\n",
      " [0. 0.]] \n",
      "\n",
      "[[1. 1.]\n",
      " [1. 1.]] \n",
      "\n",
      "[[9. 9.]\n",
      " [9. 9.]]\n"
     ]
    }
   ],
   "source": [
    "arr = np.array([[10.0, 20.0],[30.0, 40.0]]) # arr.shape -> (2,2)\n",
    "print(\"Shape:\", arr.shape, '\\n')\n",
    "\n",
    "## ndarray를 삽입하면 됨 => 이미 만들어진 matrix 구조에 숫자만 지정해서 초기화\n",
    "# zeros_like\n",
    "print(np.zeros_like(arr), '\\n')\n",
    "\n",
    "# ones_like\n",
    "print(np.ones_like(arr), '\\n')\n",
    "\n",
    "# full_like\n",
    "print(np.full_like(arr, 9)) "
   ]
  },
  {
   "cell_type": "markdown",
   "id": "97d3770c",
   "metadata": {},
   "source": [
    "### Sequence(수열) 생성: arithmetic sequence\n",
    "- np.arange(start, end, step)\n",
    "    - start: 시작하는 숫자\n",
    "    - end: 끝나는 숫지 + 1\n",
    "    - step: start~end 증가하는 간격"
   ]
  },
  {
   "cell_type": "code",
   "execution_count": null,
   "id": "7931bf58",
   "metadata": {},
   "outputs": [
    {
     "ename": "TypeError",
     "evalue": "arange: scalar arguments expected instead of a tuple.",
     "output_type": "error",
     "traceback": [
      "\u001b[31m---------------------------------------------------------------------------\u001b[39m",
      "\u001b[31mTypeError\u001b[39m                                 Traceback (most recent call last)",
      "\u001b[36mCell\u001b[39m\u001b[36m \u001b[39m\u001b[32mIn[57]\u001b[39m\u001b[32m, line 4\u001b[39m\n\u001b[32m      2\u001b[39m seq2_arr = np.arange(\u001b[32m0\u001b[39m, \u001b[32m20\u001b[39m , \u001b[32m.2\u001b[39m)\n\u001b[32m      3\u001b[39m seq3_arr = np.arange(\u001b[32m10\u001b[39m) \u001b[38;5;66;03m# default로 1씩 increment\u001b[39;00m\n\u001b[32m----> \u001b[39m\u001b[32m4\u001b[39m seq_tarr = \u001b[43mnp\u001b[49m\u001b[43m.\u001b[49m\u001b[43marange\u001b[49m\u001b[43m(\u001b[49m\u001b[43m(\u001b[49m\u001b[32;43m1\u001b[39;49m\u001b[43m,\u001b[49m\u001b[32;43m4\u001b[39;49m\u001b[43m)\u001b[49m\u001b[43m,\u001b[49m\u001b[43m(\u001b[49m\u001b[32;43m3\u001b[39;49m\u001b[43m,\u001b[49m\u001b[32;43m7\u001b[39;49m\u001b[43m)\u001b[49m\u001b[43m,\u001b[49m\u001b[43m(\u001b[49m\u001b[32;43m6\u001b[39;49m\u001b[43m,\u001b[49m\u001b[32;43m10\u001b[39;49m\u001b[43m)\u001b[49m\u001b[43m)\u001b[49m\n\u001b[32m      6\u001b[39m \u001b[38;5;28mprint\u001b[39m(seq1_arr)\n\u001b[32m      7\u001b[39m \u001b[38;5;28mprint\u001b[39m(seq2_arr)\n",
      "\u001b[31mTypeError\u001b[39m: arange: scalar arguments expected instead of a tuple."
     ]
    }
   ],
   "source": [
    "seq1_arr = np.arange(1,10)\n",
    "seq2_arr = np.arange(0, 20 , .2)\n",
    "seq3_arr = np.arange(10) # default로 1씩 increment\n",
    "\n",
    "print(seq1_arr)\n",
    "print(seq2_arr)\n",
    "print(seq3_arr)\n"
   ]
  },
  {
   "cell_type": "markdown",
   "id": "a6cd3aec",
   "metadata": {},
   "source": [
    "- np.linspace(strat, end, num)\n",
    "    - start: 시작\n",
    "    - end: 끝\n",
    "    - num: 결과로 만들어진 수열의 요소 개수 (동일한 간격으로 생성)"
   ]
  },
  {
   "cell_type": "code",
   "execution_count": 64,
   "id": "bd544915",
   "metadata": {},
   "outputs": [
    {
     "name": "stdout",
     "output_type": "stream",
     "text": [
      "[0.   0.25 0.5  0.75 1.  ]\n",
      "[ 0.          0.20408163  0.40816327  0.6122449   0.81632653  1.02040816\n",
      "  1.2244898   1.42857143  1.63265306  1.83673469  2.04081633  2.24489796\n",
      "  2.44897959  2.65306122  2.85714286  3.06122449  3.26530612  3.46938776\n",
      "  3.67346939  3.87755102  4.08163265  4.28571429  4.48979592  4.69387755\n",
      "  4.89795918  5.10204082  5.30612245  5.51020408  5.71428571  5.91836735\n",
      "  6.12244898  6.32653061  6.53061224  6.73469388  6.93877551  7.14285714\n",
      "  7.34693878  7.55102041  7.75510204  7.95918367  8.16326531  8.36734694\n",
      "  8.57142857  8.7755102   8.97959184  9.18367347  9.3877551   9.59183673\n",
      "  9.79591837 10.        ]\n"
     ]
    }
   ],
   "source": [
    "arr_lin1 = np.linspace(0, 1, 5)  # 0에서 1까지 5개의 interval\n",
    "arr_lin2 = np.linspace(0, 10)  # num의 기본값은 50\n",
    "#arr_lin3 = np.linspace(10)  # 이렇게는 안 됨!!!!\n",
    "\n",
    "print(arr_lin1)\n",
    "print(arr_lin2)\n",
    "#print(arr_lin3)"
   ]
  },
  {
   "cell_type": "markdown",
   "id": "338db436",
   "metadata": {},
   "source": [
    "- [참고] 지수 | 로그\n",
    "    - 지수(exponent): 거듭제곱 $a^x = b$에서 x\n",
    "    - 밑(base): 거급제곱 될 수  $a^x = b$에서 a\n",
    "    - 로그\n",
    "    - 자연로그: base with 'e'\n",
    "    - common logarithm: base 10"
   ]
  },
  {
   "cell_type": "markdown",
   "id": "2a8f5a39",
   "metadata": {},
   "source": [
    "- np.logspace(start_exp, end_exp, num, base)\n",
    "    - start_exp: 시작 exponent(지수)\n",
    "    - end_exp: 끝 exponent\n",
    "    - num: 결과로 만들어진 수열의 요소 개수\n",
    "    - base: base"
   ]
  },
  {
   "cell_type": "code",
   "execution_count": 70,
   "id": "7f5b28c1",
   "metadata": {},
   "outputs": [
    {
     "name": "stdout",
     "output_type": "stream",
     "text": [
      "[  10.           46.41588834  215.443469   1000.        ]\n",
      "[  10.           46.41588834  215.443469   1000.        ]\n"
     ]
    }
   ],
   "source": [
    "log_arr = np.logspace(1,3,4) # base default: 10\n",
    "print(log_arr)\n",
    "\n",
    "log_arr2 = np.logspace(1, 3, 4, 2) # base default: 10\n",
    "print(log_arr2)"
   ]
  },
  {
   "cell_type": "markdown",
   "id": "1f35ddf1",
   "metadata": {},
   "source": [
    "---"
   ]
  },
  {
   "cell_type": "markdown",
   "id": "47eb68ac",
   "metadata": {},
   "source": [
    "## ndarray Indexing & Slicing"
   ]
  },
  {
   "cell_type": "code",
   "execution_count": 75,
   "id": "e3d16e1b",
   "metadata": {},
   "outputs": [
    {
     "name": "stdout",
     "output_type": "stream",
     "text": [
      "[ 0  2  4  6  8 10 12 14 16 18 20]\n",
      "2 6 20\n"
     ]
    }
   ],
   "source": [
    "# 1-d array indexing = python list indexing\n",
    "\n",
    "arr = np.arange(0,22,2) # 0~22까지 2 간격\n",
    "\n",
    "print(arr)\n",
    "print(arr[1], arr[3], arr[-1])"
   ]
  },
  {
   "cell_type": "code",
   "execution_count": null,
   "id": "7760cee2",
   "metadata": {},
   "outputs": [
    {
     "name": "stdout",
     "output_type": "stream",
     "text": [
      "Shape: (2, 3)\n",
      "[10 20 30]\n",
      "[20 30]\n",
      "[20 30]\n"
     ]
    }
   ],
   "source": [
    "# 2-d array indexing\n",
    "\n",
    "arr_2d = np.array([[10,20,30],[40,50,60]])\n",
    "print(\"Shape:\", arr_2d.shape)\n",
    "print(arr_2d[0])\n",
    "\n",
    "print(arr_2d[0][1:]) # 방법 1\n",
    "print(arr_2d[0, 1:]) # 방법 2 == print(arr_2d[ (0, 1:) ])  -> 근데 내부적으로 구동 방법에는 차이가 있기는 함\n",
    "\n"
   ]
  },
  {
   "cell_type": "code",
   "execution_count": 88,
   "id": "994c18e0",
   "metadata": {},
   "outputs": [
    {
     "name": "stdout",
     "output_type": "stream",
     "text": [
      "44\n",
      "88\n",
      "88\n"
     ]
    }
   ],
   "source": [
    "arr2_2d = np.array([[11, 22, 33], [44, 55, 66], [77, 88, 99]])\n",
    "\n",
    "print(arr2_2d[1,0]) # 44\n",
    "print(arr2_2d[2,1]) # 88\n",
    "print(arr2_2d[-1,-2]) # 88 (음수 인덱스로)"
   ]
  },
  {
   "cell_type": "code",
   "execution_count": 97,
   "id": "2bbb597e",
   "metadata": {},
   "outputs": [
    {
     "name": "stdout",
     "output_type": "stream",
     "text": [
      "[3 4 5 6 7]\n",
      "[1 3 5 7 9]\n",
      "[ 5  6  7  8  9 10]\n",
      "[1 2 3 4 5 6 7]\n",
      "[10  9  8  7  6  5  4  3  2  1]\n"
     ]
    }
   ],
   "source": [
    "# 1차원 배열 슬라이싱\n",
    "arr = np.arange(1,11)\n",
    "\n",
    "print(arr[2:7]) # [3 4 5 6 7]\n",
    "print(arr[:10:2]) # [1 3 4 7 9]\n",
    "print(arr[4:]) # [5 6 7 8 9 10]\n",
    "print(arr[:-3])# [1 2 3 4 5 6 7]\n",
    "print(arr[::-1])# [10 9 8 7 6 5 4 3 2 1]"
   ]
  },
  {
   "cell_type": "code",
   "execution_count": null,
   "id": "798c0152",
   "metadata": {},
   "outputs": [
    {
     "name": "stdout",
     "output_type": "stream",
     "text": [
      "[[20]\n",
      " [50]] \n",
      "\n",
      "[[10 20 30]\n",
      " [40 50 60]] \n",
      "\n",
      "[[20 30]\n",
      " [50 60]\n",
      " [80 90]] \n",
      "\n",
      "[[10 20 30]\n",
      " [40 50 60]]\n"
     ]
    }
   ],
   "source": [
    "# 2차원 배열 슬라이싱\n",
    "arr_2d = np.array([[10,20,30],[40,50,60],[70,80,90]])\n",
    "\n",
    "print(arr_2d[0:2, 1:2], '\\n') # [[20], [50]] => [행 슬라이싱, 열 슬라이싱]\n",
    "print(arr_2d[:2, :], '\\n')\n",
    "print(arr_2d[:, 1:], '\\n')\n",
    "print(arr_2d[0:2]) # argument 1개면 row에 대해서만 슬라이싱 한다는 것"
   ]
  },
  {
   "cell_type": "code",
   "execution_count": null,
   "id": "4bb20026",
   "metadata": {},
   "outputs": [
    {
     "name": "stdout",
     "output_type": "stream",
     "text": [
      "[[10]\n",
      " [40]]\n",
      "(2, 1)\n",
      "\n",
      "\n",
      "[10 40]\n",
      "(2,)\n"
     ]
    }
   ],
   "source": [
    "print(arr_2d[:-1, 0:1])\n",
    "print(arr_2d[:-1, 0:1].shape)\n",
    "\n",
    "print(\"\\n\") # 위랑 아래랑 결과가 다른 것을 볼 수 있음 => why? 위에는 컬럼 슬라이싱 밑에는 인덱싱(차원이 제거가 됨) 즉, 값을 꺼내서 반환\n",
    "\n",
    "print(arr_2d[:-1, 0])\n",
    "print(arr_2d[:-1, 0].shape)"
   ]
  },
  {
   "cell_type": "markdown",
   "id": "1c484c1f",
   "metadata": {},
   "source": [
    "### Fancy indexing & boolean indexing"
   ]
  },
  {
   "cell_type": "code",
   "execution_count": 123,
   "id": "d17128a7",
   "metadata": {},
   "outputs": [
    {
     "name": "stdout",
     "output_type": "stream",
     "text": [
      "[ 5 10 15 20 25 30] \n",
      "\n",
      "[10 20 30]\n"
     ]
    }
   ],
   "source": [
    "# 1차원 배열 fancy indexing\n",
    "arr = np.arange(5,31, 5)\n",
    "print(arr, \"\\n\")\n",
    "\n",
    "indices = [1, 3, 5]\n",
    "print(arr[indices]) # arr[[1,3,5]]"
   ]
  },
  {
   "cell_type": "code",
   "execution_count": null,
   "id": "d62a4397",
   "metadata": {},
   "outputs": [
    {
     "name": "stdout",
     "output_type": "stream",
     "text": [
      "[10 35]\n",
      "[10 35]\n"
     ]
    }
   ],
   "source": [
    "# 2차원 배열 fancy indexing\n",
    "arr2d = np.array([\n",
    "    [5, 10, 15, 20], \n",
    "    [25, 30, 35, 40],\n",
    "    [45, 50, 55, 60]\n",
    "]\n",
    ")\n",
    "\n",
    "# Goal: [10, 35] => 10 위치: (0,1), 35 위치: (1,2)\n",
    "indices1= [0, 1] # [행1, 행2]\n",
    "indices2 = [1 ,2] # [열1, 열2]\n",
    "print(arr2d[indices1, indices2]) \n",
    "print(arr2d[[0,1],[1,2]]) #  위랑 같음 "
   ]
  },
  {
   "cell_type": "code",
   "execution_count": null,
   "id": "7c46f350",
   "metadata": {},
   "outputs": [
    {
     "name": "stdout",
     "output_type": "stream",
     "text": [
      "[1 2 3 4 5]\n",
      "[1 5]\n",
      "[1 2]\n"
     ]
    }
   ],
   "source": [
    "# 1차원 데이터 boolean indexing\n",
    "arr = np.arange(1,6)\n",
    "print(arr)\n",
    "\n",
    "bools = [True, False, False, False, True]\n",
    "print(arr[bools])\n",
    "print(arr[arr < 3]) # 조건으로 indexing\n"
   ]
  },
  {
   "cell_type": "code",
   "execution_count": 137,
   "id": "2a1778c9",
   "metadata": {},
   "outputs": [
    {
     "name": "stdout",
     "output_type": "stream",
     "text": [
      "[35 40 45 50 55]\n",
      "[10 20 30 40 50 60]\n"
     ]
    }
   ],
   "source": [
    "# 2차원 배열 boolean indexing\n",
    "arr2d = np.array([\n",
    "    [5, 10, 15, 20], \n",
    "    [25, 30, 35, 40],\n",
    "    [45, 50, 55, 60]\n",
    "]\n",
    ")\n",
    "\n",
    "print(arr2d[(arr2d > 30) & (arr2d < 60)])\n",
    "print(arr2d[arr2d %2 ==0])"
   ]
  },
  {
   "cell_type": "markdown",
   "id": "2a2c00a8",
   "metadata": {},
   "source": [
    "- **np.all()**: ndarray의 모든 요소가 조건을 만족할 때 True 반환\n",
    "- **np.any()**: ndarray의 요소 중 하나라도 조건 만족할 때 True 반환"
   ]
  },
  {
   "cell_type": "code",
   "execution_count": null,
   "id": "7bed4a27",
   "metadata": {},
   "outputs": [
    {
     "name": "stdout",
     "output_type": "stream",
     "text": [
      "False\n",
      "True\n"
     ]
    }
   ],
   "source": [
    "arr = np.array([10,20,30,40, -50])\n",
    "\n",
    "print(np.all(arr > 0)) # '전부' 조건 해당되면 True\n",
    "print(np.any(arr > 0)) # '하나라도' 조건 해당되면 True"
   ]
  },
  {
   "cell_type": "code",
   "execution_count": null,
   "id": "7338e946",
   "metadata": {},
   "outputs": [],
   "source": []
  }
 ],
 "metadata": {
  "kernelspec": {
   "display_name": "pystudy_env",
   "language": "python",
   "name": "python3"
  },
  "language_info": {
   "codemirror_mode": {
    "name": "ipython",
    "version": 3
   },
   "file_extension": ".py",
   "mimetype": "text/x-python",
   "name": "python",
   "nbconvert_exporter": "python",
   "pygments_lexer": "ipython3",
   "version": "3.12.11"
  }
 },
 "nbformat": 4,
 "nbformat_minor": 5
}
